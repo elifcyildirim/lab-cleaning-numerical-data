{
 "cells": [
  {
   "cell_type": "code",
   "execution_count": 1,
   "id": "fd6ea035",
   "metadata": {},
   "outputs": [],
   "source": [
    "# 1  Lab | Cleaning numerical data\n",
    "# 2  Lab | Cleaning categorical data\n",
    "# 3  Lab | Feature extraction\n",
    "# 4  Lab | Comparing regression models\n",
    "# 5  Lab | Random variable distributions"
   ]
  },
  {
   "cell_type": "code",
   "execution_count": 2,
   "id": "c3508a13",
   "metadata": {},
   "outputs": [],
   "source": [
    "#main\n",
    "import pandas as pd\n",
    "import numpy as np\n",
    "import math\n",
    "import sklearn\n",
    "\n",
    "#graphic\n",
    "import matplotlib\n",
    "import matplotlib.pyplot as plt\n",
    "import seaborn as sns \n",
    "%matplotlib inline\n",
    "\n",
    "#specific\n",
    "from sklearn.preprocessing import MinMaxScaler\n",
    "from sklearn.preprocessing import StandardScaler\n",
    "from sklearn.preprocessing import OneHotEncoder\n",
    "from sklearn.preprocessing import LabelEncoder\n",
    "from sklearn.model_selection import train_test_split\n",
    "from sklearn import linear_model\n",
    "from sklearn.metrics import mean_absolute_error,mean_squared_error, r2_score\n",
    "\n",
    "from sklearn.linear_model import LinearRegression, SGDRegressor\n",
    "from sklearn.tree import DecisionTreeRegressor\n",
    "from sklearn.neighbors import KNeighborsRegressor\n",
    "from sklearn.svm import SVR\n",
    "from sklearn.neural_network import MLPRegressor\n",
    "from sklearn.ensemble import RandomForestRegressor\n"
   ]
  },
  {
   "cell_type": "code",
   "execution_count": 3,
   "id": "0d39a061",
   "metadata": {},
   "outputs": [],
   "source": [
    "pd.set_option('display.max_columns', None)"
   ]
  },
  {
   "cell_type": "code",
   "execution_count": 4,
   "id": "c419e10a",
   "metadata": {},
   "outputs": [],
   "source": [
    "customer_df = pd.read_csv('we_fn_use_c_marketing_customer_value_analysis.csv')"
   ]
  },
  {
   "cell_type": "code",
   "execution_count": 5,
   "id": "a61e349e",
   "metadata": {},
   "outputs": [
    {
     "data": {
      "text/plain": [
       "(9134, 24)"
      ]
     },
     "metadata": {},
     "output_type": "display_data"
    },
    {
     "data": {
      "text/html": [
       "<div>\n",
       "<style scoped>\n",
       "    .dataframe tbody tr th:only-of-type {\n",
       "        vertical-align: middle;\n",
       "    }\n",
       "\n",
       "    .dataframe tbody tr th {\n",
       "        vertical-align: top;\n",
       "    }\n",
       "\n",
       "    .dataframe thead th {\n",
       "        text-align: right;\n",
       "    }\n",
       "</style>\n",
       "<table border=\"1\" class=\"dataframe\">\n",
       "  <thead>\n",
       "    <tr style=\"text-align: right;\">\n",
       "      <th></th>\n",
       "      <th>Customer</th>\n",
       "      <th>State</th>\n",
       "      <th>Customer Lifetime Value</th>\n",
       "      <th>Response</th>\n",
       "      <th>Coverage</th>\n",
       "      <th>Education</th>\n",
       "      <th>Effective To Date</th>\n",
       "      <th>EmploymentStatus</th>\n",
       "      <th>Gender</th>\n",
       "      <th>Income</th>\n",
       "      <th>Location Code</th>\n",
       "      <th>Marital Status</th>\n",
       "      <th>Monthly Premium Auto</th>\n",
       "      <th>Months Since Last Claim</th>\n",
       "      <th>Months Since Policy Inception</th>\n",
       "      <th>Number of Open Complaints</th>\n",
       "      <th>Number of Policies</th>\n",
       "      <th>Policy Type</th>\n",
       "      <th>Policy</th>\n",
       "      <th>Renew Offer Type</th>\n",
       "      <th>Sales Channel</th>\n",
       "      <th>Total Claim Amount</th>\n",
       "      <th>Vehicle Class</th>\n",
       "      <th>Vehicle Size</th>\n",
       "    </tr>\n",
       "  </thead>\n",
       "  <tbody>\n",
       "    <tr>\n",
       "      <th>0</th>\n",
       "      <td>BU79786</td>\n",
       "      <td>Washington</td>\n",
       "      <td>2763.519279</td>\n",
       "      <td>No</td>\n",
       "      <td>Basic</td>\n",
       "      <td>Bachelor</td>\n",
       "      <td>2/24/11</td>\n",
       "      <td>Employed</td>\n",
       "      <td>F</td>\n",
       "      <td>56274</td>\n",
       "      <td>Suburban</td>\n",
       "      <td>Married</td>\n",
       "      <td>69</td>\n",
       "      <td>32</td>\n",
       "      <td>5</td>\n",
       "      <td>0</td>\n",
       "      <td>1</td>\n",
       "      <td>Corporate Auto</td>\n",
       "      <td>Corporate L3</td>\n",
       "      <td>Offer1</td>\n",
       "      <td>Agent</td>\n",
       "      <td>384.811147</td>\n",
       "      <td>Two-Door Car</td>\n",
       "      <td>Medsize</td>\n",
       "    </tr>\n",
       "    <tr>\n",
       "      <th>1</th>\n",
       "      <td>QZ44356</td>\n",
       "      <td>Arizona</td>\n",
       "      <td>6979.535903</td>\n",
       "      <td>No</td>\n",
       "      <td>Extended</td>\n",
       "      <td>Bachelor</td>\n",
       "      <td>1/31/11</td>\n",
       "      <td>Unemployed</td>\n",
       "      <td>F</td>\n",
       "      <td>0</td>\n",
       "      <td>Suburban</td>\n",
       "      <td>Single</td>\n",
       "      <td>94</td>\n",
       "      <td>13</td>\n",
       "      <td>42</td>\n",
       "      <td>0</td>\n",
       "      <td>8</td>\n",
       "      <td>Personal Auto</td>\n",
       "      <td>Personal L3</td>\n",
       "      <td>Offer3</td>\n",
       "      <td>Agent</td>\n",
       "      <td>1131.464935</td>\n",
       "      <td>Four-Door Car</td>\n",
       "      <td>Medsize</td>\n",
       "    </tr>\n",
       "    <tr>\n",
       "      <th>2</th>\n",
       "      <td>AI49188</td>\n",
       "      <td>Nevada</td>\n",
       "      <td>12887.431650</td>\n",
       "      <td>No</td>\n",
       "      <td>Premium</td>\n",
       "      <td>Bachelor</td>\n",
       "      <td>2/19/11</td>\n",
       "      <td>Employed</td>\n",
       "      <td>F</td>\n",
       "      <td>48767</td>\n",
       "      <td>Suburban</td>\n",
       "      <td>Married</td>\n",
       "      <td>108</td>\n",
       "      <td>18</td>\n",
       "      <td>38</td>\n",
       "      <td>0</td>\n",
       "      <td>2</td>\n",
       "      <td>Personal Auto</td>\n",
       "      <td>Personal L3</td>\n",
       "      <td>Offer1</td>\n",
       "      <td>Agent</td>\n",
       "      <td>566.472247</td>\n",
       "      <td>Two-Door Car</td>\n",
       "      <td>Medsize</td>\n",
       "    </tr>\n",
       "    <tr>\n",
       "      <th>3</th>\n",
       "      <td>WW63253</td>\n",
       "      <td>California</td>\n",
       "      <td>7645.861827</td>\n",
       "      <td>No</td>\n",
       "      <td>Basic</td>\n",
       "      <td>Bachelor</td>\n",
       "      <td>1/20/11</td>\n",
       "      <td>Unemployed</td>\n",
       "      <td>M</td>\n",
       "      <td>0</td>\n",
       "      <td>Suburban</td>\n",
       "      <td>Married</td>\n",
       "      <td>106</td>\n",
       "      <td>18</td>\n",
       "      <td>65</td>\n",
       "      <td>0</td>\n",
       "      <td>7</td>\n",
       "      <td>Corporate Auto</td>\n",
       "      <td>Corporate L2</td>\n",
       "      <td>Offer1</td>\n",
       "      <td>Call Center</td>\n",
       "      <td>529.881344</td>\n",
       "      <td>SUV</td>\n",
       "      <td>Medsize</td>\n",
       "    </tr>\n",
       "    <tr>\n",
       "      <th>4</th>\n",
       "      <td>HB64268</td>\n",
       "      <td>Washington</td>\n",
       "      <td>2813.692575</td>\n",
       "      <td>No</td>\n",
       "      <td>Basic</td>\n",
       "      <td>Bachelor</td>\n",
       "      <td>2/3/11</td>\n",
       "      <td>Employed</td>\n",
       "      <td>M</td>\n",
       "      <td>43836</td>\n",
       "      <td>Rural</td>\n",
       "      <td>Single</td>\n",
       "      <td>73</td>\n",
       "      <td>12</td>\n",
       "      <td>44</td>\n",
       "      <td>0</td>\n",
       "      <td>1</td>\n",
       "      <td>Personal Auto</td>\n",
       "      <td>Personal L1</td>\n",
       "      <td>Offer1</td>\n",
       "      <td>Agent</td>\n",
       "      <td>138.130879</td>\n",
       "      <td>Four-Door Car</td>\n",
       "      <td>Medsize</td>\n",
       "    </tr>\n",
       "  </tbody>\n",
       "</table>\n",
       "</div>"
      ],
      "text/plain": [
       "  Customer       State  Customer Lifetime Value Response  Coverage Education  \\\n",
       "0  BU79786  Washington              2763.519279       No     Basic  Bachelor   \n",
       "1  QZ44356     Arizona              6979.535903       No  Extended  Bachelor   \n",
       "2  AI49188      Nevada             12887.431650       No   Premium  Bachelor   \n",
       "3  WW63253  California              7645.861827       No     Basic  Bachelor   \n",
       "4  HB64268  Washington              2813.692575       No     Basic  Bachelor   \n",
       "\n",
       "  Effective To Date EmploymentStatus Gender  Income Location Code  \\\n",
       "0           2/24/11         Employed      F   56274      Suburban   \n",
       "1           1/31/11       Unemployed      F       0      Suburban   \n",
       "2           2/19/11         Employed      F   48767      Suburban   \n",
       "3           1/20/11       Unemployed      M       0      Suburban   \n",
       "4            2/3/11         Employed      M   43836         Rural   \n",
       "\n",
       "  Marital Status  Monthly Premium Auto  Months Since Last Claim  \\\n",
       "0        Married                    69                       32   \n",
       "1         Single                    94                       13   \n",
       "2        Married                   108                       18   \n",
       "3        Married                   106                       18   \n",
       "4         Single                    73                       12   \n",
       "\n",
       "   Months Since Policy Inception  Number of Open Complaints  \\\n",
       "0                              5                          0   \n",
       "1                             42                          0   \n",
       "2                             38                          0   \n",
       "3                             65                          0   \n",
       "4                             44                          0   \n",
       "\n",
       "   Number of Policies     Policy Type        Policy Renew Offer Type  \\\n",
       "0                   1  Corporate Auto  Corporate L3           Offer1   \n",
       "1                   8   Personal Auto   Personal L3           Offer3   \n",
       "2                   2   Personal Auto   Personal L3           Offer1   \n",
       "3                   7  Corporate Auto  Corporate L2           Offer1   \n",
       "4                   1   Personal Auto   Personal L1           Offer1   \n",
       "\n",
       "  Sales Channel  Total Claim Amount  Vehicle Class Vehicle Size  \n",
       "0         Agent          384.811147   Two-Door Car      Medsize  \n",
       "1         Agent         1131.464935  Four-Door Car      Medsize  \n",
       "2         Agent          566.472247   Two-Door Car      Medsize  \n",
       "3   Call Center          529.881344            SUV      Medsize  \n",
       "4         Agent          138.130879  Four-Door Car      Medsize  "
      ]
     },
     "execution_count": 5,
     "metadata": {},
     "output_type": "execute_result"
    }
   ],
   "source": [
    "display(customer_df.shape)\n",
    "customer_df.head()"
   ]
  },
  {
   "cell_type": "code",
   "execution_count": 6,
   "id": "80074a2a",
   "metadata": {},
   "outputs": [
    {
     "name": "stdout",
     "output_type": "stream",
     "text": [
      "<class 'pandas.core.frame.DataFrame'>\n",
      "RangeIndex: 9134 entries, 0 to 9133\n",
      "Data columns (total 24 columns):\n",
      " #   Column                         Non-Null Count  Dtype  \n",
      "---  ------                         --------------  -----  \n",
      " 0   Customer                       9134 non-null   object \n",
      " 1   State                          9134 non-null   object \n",
      " 2   Customer Lifetime Value        9134 non-null   float64\n",
      " 3   Response                       9134 non-null   object \n",
      " 4   Coverage                       9134 non-null   object \n",
      " 5   Education                      9134 non-null   object \n",
      " 6   Effective To Date              9134 non-null   object \n",
      " 7   EmploymentStatus               9134 non-null   object \n",
      " 8   Gender                         9134 non-null   object \n",
      " 9   Income                         9134 non-null   int64  \n",
      " 10  Location Code                  9134 non-null   object \n",
      " 11  Marital Status                 9134 non-null   object \n",
      " 12  Monthly Premium Auto           9134 non-null   int64  \n",
      " 13  Months Since Last Claim        9134 non-null   int64  \n",
      " 14  Months Since Policy Inception  9134 non-null   int64  \n",
      " 15  Number of Open Complaints      9134 non-null   int64  \n",
      " 16  Number of Policies             9134 non-null   int64  \n",
      " 17  Policy Type                    9134 non-null   object \n",
      " 18  Policy                         9134 non-null   object \n",
      " 19  Renew Offer Type               9134 non-null   object \n",
      " 20  Sales Channel                  9134 non-null   object \n",
      " 21  Total Claim Amount             9134 non-null   float64\n",
      " 22  Vehicle Class                  9134 non-null   object \n",
      " 23  Vehicle Size                   9134 non-null   object \n",
      "dtypes: float64(2), int64(6), object(16)\n",
      "memory usage: 1.7+ MB\n"
     ]
    }
   ],
   "source": [
    "customer_df.info()"
   ]
  },
  {
   "cell_type": "code",
   "execution_count": 7,
   "id": "f6347766",
   "metadata": {},
   "outputs": [],
   "source": [
    "# Standardizing the column names\n",
    "cols = [] \n",
    "for i in range(len(customer_df.columns)):\n",
    "    cols.append(customer_df.columns[i].lower().replace(' ','_'))\n",
    "customer_df.columns = cols"
   ]
  },
  {
   "cell_type": "code",
   "execution_count": 8,
   "id": "c92248e2",
   "metadata": {},
   "outputs": [
    {
     "data": {
      "text/plain": [
       "Index(['customer', 'state', 'customer_lifetime_value', 'response', 'coverage',\n",
       "       'education', 'effective_to_date', 'employmentstatus', 'gender',\n",
       "       'income', 'location_code', 'marital_status', 'monthly_premium_auto',\n",
       "       'months_since_last_claim', 'months_since_policy_inception',\n",
       "       'number_of_open_complaints', 'number_of_policies', 'policy_type',\n",
       "       'policy', 'renew_offer_type', 'sales_channel', 'total_claim_amount',\n",
       "       'vehicle_class', 'vehicle_size'],\n",
       "      dtype='object')"
      ]
     },
     "execution_count": 8,
     "metadata": {},
     "output_type": "execute_result"
    }
   ],
   "source": [
    "customer_df.columns"
   ]
  },
  {
   "cell_type": "code",
   "execution_count": 9,
   "id": "8c0b9a0c",
   "metadata": {},
   "outputs": [
    {
     "data": {
      "text/plain": [
       "customer                                 object\n",
       "state                                    object\n",
       "customer_lifetime_value                 float64\n",
       "response                                 object\n",
       "coverage                                 object\n",
       "education                                object\n",
       "effective_to_date                datetime64[ns]\n",
       "employmentstatus                         object\n",
       "gender                                   object\n",
       "income                                    int64\n",
       "location_code                            object\n",
       "marital_status                           object\n",
       "monthly_premium_auto                      int64\n",
       "months_since_last_claim                   int64\n",
       "months_since_policy_inception             int64\n",
       "number_of_open_complaints                 int64\n",
       "number_of_policies                        int64\n",
       "policy_type                              object\n",
       "policy                                   object\n",
       "renew_offer_type                         object\n",
       "sales_channel                            object\n",
       "total_claim_amount                      float64\n",
       "vehicle_class                            object\n",
       "vehicle_size                             object\n",
       "dtype: object"
      ]
     },
     "execution_count": 9,
     "metadata": {},
     "output_type": "execute_result"
    }
   ],
   "source": [
    "# date column to datetime format\n",
    "\n",
    "customer_df['effective_to_date'] = pd.to_datetime(customer_df['effective_to_date'], errors='coerce') \n",
    "customer_df.dtypes"
   ]
  },
  {
   "cell_type": "code",
   "execution_count": 10,
   "id": "a3f33d9a",
   "metadata": {},
   "outputs": [
    {
     "data": {
      "text/html": [
       "<div>\n",
       "<style scoped>\n",
       "    .dataframe tbody tr th:only-of-type {\n",
       "        vertical-align: middle;\n",
       "    }\n",
       "\n",
       "    .dataframe tbody tr th {\n",
       "        vertical-align: top;\n",
       "    }\n",
       "\n",
       "    .dataframe thead th {\n",
       "        text-align: right;\n",
       "    }\n",
       "</style>\n",
       "<table border=\"1\" class=\"dataframe\">\n",
       "  <thead>\n",
       "    <tr style=\"text-align: right;\">\n",
       "      <th></th>\n",
       "      <th>number_of_customers</th>\n",
       "    </tr>\n",
       "    <tr>\n",
       "      <th>effective_to_date</th>\n",
       "      <th></th>\n",
       "    </tr>\n",
       "  </thead>\n",
       "  <tbody>\n",
       "    <tr>\n",
       "      <th>2011-01-01</th>\n",
       "      <td>148</td>\n",
       "    </tr>\n",
       "    <tr>\n",
       "      <th>2011-01-02</th>\n",
       "      <td>160</td>\n",
       "    </tr>\n",
       "    <tr>\n",
       "      <th>2011-01-03</th>\n",
       "      <td>178</td>\n",
       "    </tr>\n",
       "    <tr>\n",
       "      <th>2011-01-04</th>\n",
       "      <td>115</td>\n",
       "    </tr>\n",
       "    <tr>\n",
       "      <th>2011-01-05</th>\n",
       "      <td>167</td>\n",
       "    </tr>\n",
       "  </tbody>\n",
       "</table>\n",
       "</div>"
      ],
      "text/plain": [
       "                   number_of_customers\n",
       "effective_to_date                     \n",
       "2011-01-01                         148\n",
       "2011-01-02                         160\n",
       "2011-01-03                         178\n",
       "2011-01-04                         115\n",
       "2011-01-05                         167"
      ]
     },
     "metadata": {},
     "output_type": "display_data"
    },
    {
     "data": {
      "text/plain": [
       "<AxesSubplot:xlabel='effective_to_date', ylabel='number_of_customers'>"
      ]
     },
     "execution_count": 10,
     "metadata": {},
     "output_type": "execute_result"
    },
    {
     "data": {
      "image/png": "[encoded data removed]",
      "text/plain": [
       "<Figure size 1440x360 with 1 Axes>"
      ]
     },
     "metadata": {
      "needs_background": "light"
     },
     "output_type": "display_data"
    }
   ],
   "source": [
    "# ploting 'effective_to_date' vs 'total_number_of_customers'\n",
    "\n",
    "time_df= customer_df[['effective_to_date', 'customer']]\n",
    "time_df=time_df.groupby(['effective_to_date']).agg({'customer': pd.Series.nunique}).rename(columns={'customer':'number_of_customers'})\n",
    "\n",
    "display (time_df.head())\n",
    "\n",
    "plt.figure(figsize=(20,5))\n",
    "sns.lineplot(data=time_df, x='effective_to_date', y='number_of_customers')\n"
   ]
  },
  {
   "cell_type": "code",
   "execution_count": 11,
   "id": "22265af6",
   "metadata": {},
   "outputs": [
    {
     "data": {
      "text/html": [
       "<div>\n",
       "<style scoped>\n",
       "    .dataframe tbody tr th:only-of-type {\n",
       "        vertical-align: middle;\n",
       "    }\n",
       "\n",
       "    .dataframe tbody tr th {\n",
       "        vertical-align: top;\n",
       "    }\n",
       "\n",
       "    .dataframe thead th {\n",
       "        text-align: right;\n",
       "    }\n",
       "</style>\n",
       "<table border=\"1\" class=\"dataframe\">\n",
       "  <thead>\n",
       "    <tr style=\"text-align: right;\">\n",
       "      <th></th>\n",
       "      <th>customer</th>\n",
       "      <th>state</th>\n",
       "      <th>customer_lifetime_value</th>\n",
       "      <th>response</th>\n",
       "      <th>coverage</th>\n",
       "      <th>education</th>\n",
       "      <th>effective_to_date</th>\n",
       "      <th>employmentstatus</th>\n",
       "      <th>gender</th>\n",
       "      <th>income</th>\n",
       "      <th>location_code</th>\n",
       "      <th>marital_status</th>\n",
       "      <th>monthly_premium_auto</th>\n",
       "      <th>months_since_last_claim</th>\n",
       "      <th>months_since_policy_inception</th>\n",
       "      <th>number_of_open_complaints</th>\n",
       "      <th>number_of_policies</th>\n",
       "      <th>policy_type</th>\n",
       "      <th>policy</th>\n",
       "      <th>renew_offer_type</th>\n",
       "      <th>sales_channel</th>\n",
       "      <th>total_claim_amount</th>\n",
       "      <th>vehicle_class</th>\n",
       "      <th>vehicle_size</th>\n",
       "    </tr>\n",
       "  </thead>\n",
       "  <tbody>\n",
       "    <tr>\n",
       "      <th>0</th>\n",
       "      <td>BU79786</td>\n",
       "      <td>Washington</td>\n",
       "      <td>2763.519279</td>\n",
       "      <td>No</td>\n",
       "      <td>Basic</td>\n",
       "      <td>Bachelor</td>\n",
       "      <td>2011-02-24</td>\n",
       "      <td>Employed</td>\n",
       "      <td>F</td>\n",
       "      <td>56274</td>\n",
       "      <td>Suburban</td>\n",
       "      <td>Married</td>\n",
       "      <td>69</td>\n",
       "      <td>32</td>\n",
       "      <td>5</td>\n",
       "      <td>0</td>\n",
       "      <td>1</td>\n",
       "      <td>Corporate Auto</td>\n",
       "      <td>Corporate L3</td>\n",
       "      <td>Offer1</td>\n",
       "      <td>Agent</td>\n",
       "      <td>384.811147</td>\n",
       "      <td>Two-Door Car</td>\n",
       "      <td>Medsize</td>\n",
       "    </tr>\n",
       "    <tr>\n",
       "      <th>1</th>\n",
       "      <td>QZ44356</td>\n",
       "      <td>Arizona</td>\n",
       "      <td>6979.535903</td>\n",
       "      <td>No</td>\n",
       "      <td>Extended</td>\n",
       "      <td>Bachelor</td>\n",
       "      <td>2011-01-31</td>\n",
       "      <td>Unemployed</td>\n",
       "      <td>F</td>\n",
       "      <td>0</td>\n",
       "      <td>Suburban</td>\n",
       "      <td>Single</td>\n",
       "      <td>94</td>\n",
       "      <td>13</td>\n",
       "      <td>42</td>\n",
       "      <td>0</td>\n",
       "      <td>8</td>\n",
       "      <td>Personal Auto</td>\n",
       "      <td>Personal L3</td>\n",
       "      <td>Offer3</td>\n",
       "      <td>Agent</td>\n",
       "      <td>1131.464935</td>\n",
       "      <td>Four-Door Car</td>\n",
       "      <td>Medsize</td>\n",
       "    </tr>\n",
       "    <tr>\n",
       "      <th>2</th>\n",
       "      <td>AI49188</td>\n",
       "      <td>Nevada</td>\n",
       "      <td>12887.431650</td>\n",
       "      <td>No</td>\n",
       "      <td>Premium</td>\n",
       "      <td>Bachelor</td>\n",
       "      <td>2011-02-19</td>\n",
       "      <td>Employed</td>\n",
       "      <td>F</td>\n",
       "      <td>48767</td>\n",
       "      <td>Suburban</td>\n",
       "      <td>Married</td>\n",
       "      <td>108</td>\n",
       "      <td>18</td>\n",
       "      <td>38</td>\n",
       "      <td>0</td>\n",
       "      <td>2</td>\n",
       "      <td>Personal Auto</td>\n",
       "      <td>Personal L3</td>\n",
       "      <td>Offer1</td>\n",
       "      <td>Agent</td>\n",
       "      <td>566.472247</td>\n",
       "      <td>Two-Door Car</td>\n",
       "      <td>Medsize</td>\n",
       "    </tr>\n",
       "    <tr>\n",
       "      <th>3</th>\n",
       "      <td>WW63253</td>\n",
       "      <td>California</td>\n",
       "      <td>7645.861827</td>\n",
       "      <td>No</td>\n",
       "      <td>Basic</td>\n",
       "      <td>Bachelor</td>\n",
       "      <td>2011-01-20</td>\n",
       "      <td>Unemployed</td>\n",
       "      <td>M</td>\n",
       "      <td>0</td>\n",
       "      <td>Suburban</td>\n",
       "      <td>Married</td>\n",
       "      <td>106</td>\n",
       "      <td>18</td>\n",
       "      <td>65</td>\n",
       "      <td>0</td>\n",
       "      <td>7</td>\n",
       "      <td>Corporate Auto</td>\n",
       "      <td>Corporate L2</td>\n",
       "      <td>Offer1</td>\n",
       "      <td>Call Center</td>\n",
       "      <td>529.881344</td>\n",
       "      <td>SUV</td>\n",
       "      <td>Medsize</td>\n",
       "    </tr>\n",
       "    <tr>\n",
       "      <th>4</th>\n",
       "      <td>HB64268</td>\n",
       "      <td>Washington</td>\n",
       "      <td>2813.692575</td>\n",
       "      <td>No</td>\n",
       "      <td>Basic</td>\n",
       "      <td>Bachelor</td>\n",
       "      <td>2011-02-03</td>\n",
       "      <td>Employed</td>\n",
       "      <td>M</td>\n",
       "      <td>43836</td>\n",
       "      <td>Rural</td>\n",
       "      <td>Single</td>\n",
       "      <td>73</td>\n",
       "      <td>12</td>\n",
       "      <td>44</td>\n",
       "      <td>0</td>\n",
       "      <td>1</td>\n",
       "      <td>Personal Auto</td>\n",
       "      <td>Personal L1</td>\n",
       "      <td>Offer1</td>\n",
       "      <td>Agent</td>\n",
       "      <td>138.130879</td>\n",
       "      <td>Four-Door Car</td>\n",
       "      <td>Medsize</td>\n",
       "    </tr>\n",
       "  </tbody>\n",
       "</table>\n",
       "</div>"
      ],
      "text/plain": [
       "  customer       state  customer_lifetime_value response  coverage education  \\\n",
       "0  BU79786  Washington              2763.519279       No     Basic  Bachelor   \n",
       "1  QZ44356     Arizona              6979.535903       No  Extended  Bachelor   \n",
       "2  AI49188      Nevada             12887.431650       No   Premium  Bachelor   \n",
       "3  WW63253  California              7645.861827       No     Basic  Bachelor   \n",
       "4  HB64268  Washington              2813.692575       No     Basic  Bachelor   \n",
       "\n",
       "  effective_to_date employmentstatus gender  income location_code  \\\n",
       "0        2011-02-24         Employed      F   56274      Suburban   \n",
       "1        2011-01-31       Unemployed      F       0      Suburban   \n",
       "2        2011-02-19         Employed      F   48767      Suburban   \n",
       "3        2011-01-20       Unemployed      M       0      Suburban   \n",
       "4        2011-02-03         Employed      M   43836         Rural   \n",
       "\n",
       "  marital_status  monthly_premium_auto  months_since_last_claim  \\\n",
       "0        Married                    69                       32   \n",
       "1         Single                    94                       13   \n",
       "2        Married                   108                       18   \n",
       "3        Married                   106                       18   \n",
       "4         Single                    73                       12   \n",
       "\n",
       "   months_since_policy_inception  number_of_open_complaints  \\\n",
       "0                              5                          0   \n",
       "1                             42                          0   \n",
       "2                             38                          0   \n",
       "3                             65                          0   \n",
       "4                             44                          0   \n",
       "\n",
       "   number_of_policies     policy_type        policy renew_offer_type  \\\n",
       "0                   1  Corporate Auto  Corporate L3           Offer1   \n",
       "1                   8   Personal Auto   Personal L3           Offer3   \n",
       "2                   2   Personal Auto   Personal L3           Offer1   \n",
       "3                   7  Corporate Auto  Corporate L2           Offer1   \n",
       "4                   1   Personal Auto   Personal L1           Offer1   \n",
       "\n",
       "  sales_channel  total_claim_amount  vehicle_class vehicle_size  \n",
       "0         Agent          384.811147   Two-Door Car      Medsize  \n",
       "1         Agent         1131.464935  Four-Door Car      Medsize  \n",
       "2         Agent          566.472247   Two-Door Car      Medsize  \n",
       "3   Call Center          529.881344            SUV      Medsize  \n",
       "4         Agent          138.130879  Four-Door Car      Medsize  "
      ]
     },
     "execution_count": 11,
     "metadata": {},
     "output_type": "execute_result"
    }
   ],
   "source": [
    "customer_df.head()"
   ]
  },
  {
   "cell_type": "code",
   "execution_count": 12,
   "id": "dafe1a51",
   "metadata": {},
   "outputs": [
    {
     "data": {
      "text/plain": [
       "customer                         0.0\n",
       "state                            0.0\n",
       "customer_lifetime_value          0.0\n",
       "response                         0.0\n",
       "coverage                         0.0\n",
       "education                        0.0\n",
       "effective_to_date                0.0\n",
       "employmentstatus                 0.0\n",
       "gender                           0.0\n",
       "income                           0.0\n",
       "location_code                    0.0\n",
       "marital_status                   0.0\n",
       "monthly_premium_auto             0.0\n",
       "months_since_last_claim          0.0\n",
       "months_since_policy_inception    0.0\n",
       "number_of_open_complaints        0.0\n",
       "number_of_policies               0.0\n",
       "policy_type                      0.0\n",
       "policy                           0.0\n",
       "renew_offer_type                 0.0\n",
       "sales_channel                    0.0\n",
       "total_claim_amount               0.0\n",
       "vehicle_class                    0.0\n",
       "vehicle_size                     0.0\n",
       "dtype: float64"
      ]
     },
     "execution_count": 12,
     "metadata": {},
     "output_type": "execute_result"
    }
   ],
   "source": [
    "customer_df.isna().sum()/len(customer_df)"
   ]
  },
  {
   "cell_type": "markdown",
   "id": "9cc221e9",
   "metadata": {},
   "source": [
    "# Numerical-Categorical"
   ]
  },
  {
   "cell_type": "code",
   "execution_count": 13,
   "id": "82d8952b",
   "metadata": {},
   "outputs": [],
   "source": [
    "numerical_df=customer_df.select_dtypes(np.number)\n",
    "categorical_df=customer_df.select_dtypes(object)"
   ]
  },
  {
   "cell_type": "code",
   "execution_count": 14,
   "id": "40c8ab56",
   "metadata": {},
   "outputs": [
    {
     "data": {
      "image/png": "[encoded data removed]",
      "text/plain": [
       "<Figure size 360x360 with 1 Axes>"
      ]
     },
     "metadata": {
      "needs_background": "light"
     },
     "output_type": "display_data"
    },
    {
     "data": {
      "image/png": "[encoded data removed]",
      "text/plain": [
       "<Figure size 360x360 with 1 Axes>"
      ]
     },
     "metadata": {
      "needs_background": "light"
     },
     "output_type": "display_data"
    },
    {
     "data": {
      "image/png": "[encoded data removed]",
      "text/plain": [
       "<Figure size 360x360 with 1 Axes>"
      ]
     },
     "metadata": {
      "needs_background": "light"
     },
     "output_type": "display_data"
    },
    {
     "data": {
      "image/png": "[encoded data removed]",
      "text/plain": [
       "<Figure size 360x360 with 1 Axes>"
      ]
     },
     "metadata": {
      "needs_background": "light"
     },
     "output_type": "display_data"
    },
    {
     "data": {
      "image/png": "[encoded data removed]",
      "text/plain": [
       "<Figure size 360x360 with 1 Axes>"
      ]
     },
     "metadata": {
      "needs_background": "light"
     },
     "output_type": "display_data"
    },
    {
     "data": {
      "image/png": "[encoded data removed]",
      "text/plain": [
       "<Figure size 360x360 with 1 Axes>"
      ]
     },
     "metadata": {
      "needs_background": "light"
     },
     "output_type": "display_data"
    },
    {
     "data": {
      "image/png": "[encoded data removed]",
      "text/plain": [
       "<Figure size 360x360 with 1 Axes>"
      ]
     },
     "metadata": {
      "needs_background": "light"
     },
     "output_type": "display_data"
    },
    {
     "data": {
      "image/png": "[encoded data removed]",
      "text/plain": [
       "<Figure size 360x360 with 1 Axes>"
      ]
     },
     "metadata": {
      "needs_background": "light"
     },
     "output_type": "display_data"
    }
   ],
   "source": [
    "def plot_displot(df): #for continuous numerical columns\n",
    "    for column in df.columns:\n",
    "        sns.displot(df[column], kde=True)\n",
    "        plt.show()\n",
    "    return None\n",
    "\n",
    "plot_displot(numerical_df)"
   ]
  },
  {
   "cell_type": "markdown",
   "id": "91cbd1d0",
   "metadata": {},
   "source": [
    "# Outliers"
   ]
  },
  {
   "cell_type": "code",
   "execution_count": 15,
   "id": "634d703d",
   "metadata": {},
   "outputs": [
    {
     "data": {
      "image/png": "[encoded data removed]",
      "text/plain": [
       "<Figure size 432x288 with 1 Axes>"
      ]
     },
     "metadata": {
      "needs_background": "light"
     },
     "output_type": "display_data"
    },
    {
     "data": {
      "image/png": "[encoded data removed]",
      "text/plain": [
       "<Figure size 432x288 with 1 Axes>"
      ]
     },
     "metadata": {
      "needs_background": "light"
     },
     "output_type": "display_data"
    },
    {
     "data": {
      "image/png": "[encoded data removed]",
      "text/plain": [
       "<Figure size 432x288 with 1 Axes>"
      ]
     },
     "metadata": {
      "needs_background": "light"
     },
     "output_type": "display_data"
    },
    {
     "data": {
      "image/png": "[encoded data removed]",
      "text/plain": [
       "<Figure size 432x288 with 1 Axes>"
      ]
     },
     "metadata": {
      "needs_background": "light"
     },
     "output_type": "display_data"
    },
    {
     "data": {
      "image/png": "[encoded data removed]",
      "text/plain": [
       "<Figure size 432x288 with 1 Axes>"
      ]
     },
     "metadata": {
      "needs_background": "light"
     },
     "output_type": "display_data"
    },
    {
     "data": {
      "image/png": "[encoded data removed]",
      "text/plain": [
       "<Figure size 432x288 with 1 Axes>"
      ]
     },
     "metadata": {
      "needs_background": "light"
     },
     "output_type": "display_data"
    },
    {
     "data": {
      "image/png": "[encoded data removed]",
      "text/plain": [
       "<Figure size 432x288 with 1 Axes>"
      ]
     },
     "metadata": {
      "needs_background": "light"
     },
     "output_type": "display_data"
    },
    {
     "data": {
      "image/png": "[encoded data removed]",
      "text/plain": [
       "<Figure size 432x288 with 1 Axes>"
      ]
     },
     "metadata": {
      "needs_background": "light"
     },
     "output_type": "display_data"
    }
   ],
   "source": [
    "def plot_boxplot(df): # for categorical and discrete-numerical columns\n",
    "    for column in df.columns:\n",
    "        sns.boxplot(y=df[column])\n",
    "        plt.show()\n",
    "    return None\n",
    "\n",
    "plot_boxplot(numerical_df)"
   ]
  },
  {
   "cell_type": "code",
   "execution_count": 16,
   "id": "97ddb68e",
   "metadata": {},
   "outputs": [],
   "source": [
    "# Checking how many values will be removed if the outliers are removed\n",
    "def outliers(df,col):\n",
    "    iqr = np.nanpercentile(df[col],75) - np.nanpercentile(df[col],25)\n",
    "    upper_limit = np.nanpercentile(df[col],75) + 1.5*iqr # tentatively calling these outliers.\n",
    "    extraordinary_points = df[df[col] >upper_limit]\n",
    "    return upper_limit, len(extraordinary_points)\n"
   ]
  },
  {
   "cell_type": "code",
   "execution_count": 17,
   "id": "cd1f876a",
   "metadata": {},
   "outputs": [
    {
     "name": "stdout",
     "output_type": "stream",
     "text": [
      "16414.039911750002\n",
      "817\n"
     ]
    }
   ],
   "source": [
    "#customer_lifetime_value\n",
    "upper_limit_cuslifevalue, total_outliers_cuslifevalue= outliers(customer_df,'customer_lifetime_value')\n",
    "print(upper_limit_cuslifevalue) #looking at the boxblot above I would say that the upper limit is more like 70000\n",
    "print(total_outliers_cuslifevalue)"
   ]
  },
  {
   "cell_type": "code",
   "execution_count": 18,
   "id": "b602fb03",
   "metadata": {},
   "outputs": [
    {
     "data": {
      "text/plain": [
       "3"
      ]
     },
     "execution_count": 18,
     "metadata": {},
     "output_type": "execute_result"
    }
   ],
   "source": [
    "extraordinary_points_cuslifevalue = customer_df[customer_df['customer_lifetime_value'] >70000]\n",
    "len(extraordinary_points_cuslifevalue)"
   ]
  },
  {
   "cell_type": "code",
   "execution_count": 19,
   "id": "aba038a4",
   "metadata": {},
   "outputs": [
    {
     "name": "stdout",
     "output_type": "stream",
     "text": [
      "155800.0\n",
      "0\n"
     ]
    }
   ],
   "source": [
    "# income\n",
    "upper_limit_income,  total_outliers_income= outliers(customer_df,'income')\n",
    "print(upper_limit_income) # no outliers. And in my opinion, no row in income should be treated as a 'meaningless' outlier\n",
    "print(total_outliers_income)"
   ]
  },
  {
   "cell_type": "code",
   "execution_count": 20,
   "id": "5518b273",
   "metadata": {},
   "outputs": [
    {
     "name": "stdout",
     "output_type": "stream",
     "text": [
      "960.3997301249999\n",
      "453\n"
     ]
    }
   ],
   "source": [
    "#total_claim_amount\n",
    "upper_limit_claimamount, total_outliers_claimamount= outliers(customer_df,'total_claim_amount')\n",
    "print(upper_limit_claimamount) # similar to the income column, I do not think there are meaningless outliers.\n",
    "                                        # there may be very rich people whose claims are very high\n",
    "print(total_outliers_claimamount)"
   ]
  },
  {
   "cell_type": "code",
   "execution_count": 21,
   "id": "02bc142c",
   "metadata": {},
   "outputs": [
    {
     "data": {
      "text/plain": [
       "2"
      ]
     },
     "execution_count": 21,
     "metadata": {},
     "output_type": "execute_result"
    }
   ],
   "source": [
    "extraordinary_points_claimamount = customer_df[customer_df['total_claim_amount'] >2600] \n",
    "len(extraordinary_points_claimamount) #testing what looks like the apparent upper limit on the boxplot (2600)"
   ]
  },
  {
   "cell_type": "code",
   "execution_count": 22,
   "id": "703ac5bb",
   "metadata": {},
   "outputs": [
    {
     "name": "stdout",
     "output_type": "stream",
     "text": [
      "170.5\n",
      "430\n"
     ]
    }
   ],
   "source": [
    "#monthly_premium_auto\n",
    "\n",
    "upper_limit_monthlypremauto, total_outliers_monthlypremauto= outliers(customer_df,'monthly_premium_auto')\n",
    "print(upper_limit_monthlypremauto) #looking at the boxbplot, I do not see outliers. I would not remove anything\n",
    "\n",
    "print(total_outliers_monthlypremauto)\n"
   ]
  },
  {
   "cell_type": "markdown",
   "id": "f4e62233",
   "metadata": {},
   "source": [
    "    # Apparently there are outliers in these columns based on the interquartile range.\n",
    "    # I am not sure whether these should be removed. These customers may actually be very rich people.\n",
    "    # And they still represent the reality.\n",
    "    # Even so, this does not change the fact that they are outliers and their data skew the overall data. \n",
    "    # Jan's idea is that analyzing these outliers separately might be very useful in the insurance sector.\n",
    "    # In this lab, I will leave them in.\n"
   ]
  },
  {
   "cell_type": "code",
   "execution_count": 23,
   "id": "6adc293b",
   "metadata": {},
   "outputs": [],
   "source": [
    "# Erin's way of checking the outliers and removing them (will not actually remove):"
   ]
  },
  {
   "cell_type": "code",
   "execution_count": 24,
   "id": "0866a033",
   "metadata": {},
   "outputs": [],
   "source": [
    "def outliers(column, threshold = 3):\n",
    "    data = column[abs(column.apply(lambda x: (x - column.mean())/column.var()**(1/2))) > threshold]    \n",
    "    return data"
   ]
  },
  {
   "cell_type": "code",
   "execution_count": 25,
   "id": "114773c1",
   "metadata": {},
   "outputs": [],
   "source": [
    "CLV_outliers = outliers(numerical_df[\"customer_lifetime_value\"])\n",
    "MPA_outliers = outliers(numerical_df[\"monthly_premium_auto\"])"
   ]
  },
  {
   "cell_type": "code",
   "execution_count": 26,
   "id": "3aba8f4b",
   "metadata": {},
   "outputs": [
    {
     "data": {
      "text/plain": [
       "211"
      ]
     },
     "execution_count": 26,
     "metadata": {},
     "output_type": "execute_result"
    }
   ],
   "source": [
    "len(CLV_outliers)"
   ]
  },
  {
   "cell_type": "code",
   "execution_count": 27,
   "id": "c70da023",
   "metadata": {},
   "outputs": [
    {
     "data": {
      "text/plain": [
       "200"
      ]
     },
     "execution_count": 27,
     "metadata": {},
     "output_type": "execute_result"
    }
   ],
   "source": [
    "len(MPA_outliers)"
   ]
  },
  {
   "cell_type": "code",
   "execution_count": 28,
   "id": "0e39080b",
   "metadata": {},
   "outputs": [],
   "source": [
    "# to_drop = CLV_outliers.index | MPA_outliers.index # Union"
   ]
  },
  {
   "cell_type": "code",
   "execution_count": 29,
   "id": "cc01adfc",
   "metadata": {},
   "outputs": [],
   "source": [
    "# clean_numerical_df = numerical_df.drop(to_drop).reset_index(drop = True)\n",
    "# clean_numerical_df.isna().sum()"
   ]
  },
  {
   "cell_type": "code",
   "execution_count": 30,
   "id": "44742d42",
   "metadata": {},
   "outputs": [],
   "source": [
    "# categorical_df = categorical_df.drop(to_drop).reset_index(drop = True)"
   ]
  },
  {
   "cell_type": "code",
   "execution_count": 31,
   "id": "9746e3cb",
   "metadata": {},
   "outputs": [],
   "source": [
    "# print(\"New shape: \",clean_numerical_df.shape)"
   ]
  },
  {
   "cell_type": "code",
   "execution_count": null,
   "id": "176306a1",
   "metadata": {},
   "outputs": [],
   "source": []
  },
  {
   "cell_type": "code",
   "execution_count": 32,
   "id": "bf2a9f58",
   "metadata": {},
   "outputs": [
    {
     "data": {
      "text/html": [
       "<div>\n",
       "<style scoped>\n",
       "    .dataframe tbody tr th:only-of-type {\n",
       "        vertical-align: middle;\n",
       "    }\n",
       "\n",
       "    .dataframe tbody tr th {\n",
       "        vertical-align: top;\n",
       "    }\n",
       "\n",
       "    .dataframe thead th {\n",
       "        text-align: right;\n",
       "    }\n",
       "</style>\n",
       "<table border=\"1\" class=\"dataframe\">\n",
       "  <thead>\n",
       "    <tr style=\"text-align: right;\">\n",
       "      <th></th>\n",
       "      <th>count</th>\n",
       "      <th>mean</th>\n",
       "      <th>std</th>\n",
       "      <th>min</th>\n",
       "      <th>25%</th>\n",
       "      <th>50%</th>\n",
       "      <th>75%</th>\n",
       "      <th>max</th>\n",
       "    </tr>\n",
       "  </thead>\n",
       "  <tbody>\n",
       "    <tr>\n",
       "      <th>customer_lifetime_value</th>\n",
       "      <td>9134.0</td>\n",
       "      <td>8004.940475</td>\n",
       "      <td>6870.967608</td>\n",
       "      <td>1898.007675</td>\n",
       "      <td>3994.251794</td>\n",
       "      <td>5780.182197</td>\n",
       "      <td>8962.167041</td>\n",
       "      <td>83325.381190</td>\n",
       "    </tr>\n",
       "    <tr>\n",
       "      <th>income</th>\n",
       "      <td>9134.0</td>\n",
       "      <td>37657.380009</td>\n",
       "      <td>30379.904734</td>\n",
       "      <td>0.000000</td>\n",
       "      <td>0.000000</td>\n",
       "      <td>33889.500000</td>\n",
       "      <td>62320.000000</td>\n",
       "      <td>99981.000000</td>\n",
       "    </tr>\n",
       "    <tr>\n",
       "      <th>monthly_premium_auto</th>\n",
       "      <td>9134.0</td>\n",
       "      <td>93.219291</td>\n",
       "      <td>34.407967</td>\n",
       "      <td>61.000000</td>\n",
       "      <td>68.000000</td>\n",
       "      <td>83.000000</td>\n",
       "      <td>109.000000</td>\n",
       "      <td>298.000000</td>\n",
       "    </tr>\n",
       "    <tr>\n",
       "      <th>months_since_last_claim</th>\n",
       "      <td>9134.0</td>\n",
       "      <td>15.097000</td>\n",
       "      <td>10.073257</td>\n",
       "      <td>0.000000</td>\n",
       "      <td>6.000000</td>\n",
       "      <td>14.000000</td>\n",
       "      <td>23.000000</td>\n",
       "      <td>35.000000</td>\n",
       "    </tr>\n",
       "    <tr>\n",
       "      <th>months_since_policy_inception</th>\n",
       "      <td>9134.0</td>\n",
       "      <td>48.064594</td>\n",
       "      <td>27.905991</td>\n",
       "      <td>0.000000</td>\n",
       "      <td>24.000000</td>\n",
       "      <td>48.000000</td>\n",
       "      <td>71.000000</td>\n",
       "      <td>99.000000</td>\n",
       "    </tr>\n",
       "    <tr>\n",
       "      <th>number_of_open_complaints</th>\n",
       "      <td>9134.0</td>\n",
       "      <td>0.384388</td>\n",
       "      <td>0.910384</td>\n",
       "      <td>0.000000</td>\n",
       "      <td>0.000000</td>\n",
       "      <td>0.000000</td>\n",
       "      <td>0.000000</td>\n",
       "      <td>5.000000</td>\n",
       "    </tr>\n",
       "    <tr>\n",
       "      <th>number_of_policies</th>\n",
       "      <td>9134.0</td>\n",
       "      <td>2.966170</td>\n",
       "      <td>2.390182</td>\n",
       "      <td>1.000000</td>\n",
       "      <td>1.000000</td>\n",
       "      <td>2.000000</td>\n",
       "      <td>4.000000</td>\n",
       "      <td>9.000000</td>\n",
       "    </tr>\n",
       "    <tr>\n",
       "      <th>total_claim_amount</th>\n",
       "      <td>9134.0</td>\n",
       "      <td>434.088794</td>\n",
       "      <td>290.500092</td>\n",
       "      <td>0.099007</td>\n",
       "      <td>272.258244</td>\n",
       "      <td>383.945434</td>\n",
       "      <td>547.514839</td>\n",
       "      <td>2893.239678</td>\n",
       "    </tr>\n",
       "  </tbody>\n",
       "</table>\n",
       "</div>"
      ],
      "text/plain": [
       "                                count          mean           std  \\\n",
       "customer_lifetime_value        9134.0   8004.940475   6870.967608   \n",
       "income                         9134.0  37657.380009  30379.904734   \n",
       "monthly_premium_auto           9134.0     93.219291     34.407967   \n",
       "months_since_last_claim        9134.0     15.097000     10.073257   \n",
       "months_since_policy_inception  9134.0     48.064594     27.905991   \n",
       "number_of_open_complaints      9134.0      0.384388      0.910384   \n",
       "number_of_policies             9134.0      2.966170      2.390182   \n",
       "total_claim_amount             9134.0    434.088794    290.500092   \n",
       "\n",
       "                                       min          25%           50%  \\\n",
       "customer_lifetime_value        1898.007675  3994.251794   5780.182197   \n",
       "income                            0.000000     0.000000  33889.500000   \n",
       "monthly_premium_auto             61.000000    68.000000     83.000000   \n",
       "months_since_last_claim           0.000000     6.000000     14.000000   \n",
       "months_since_policy_inception     0.000000    24.000000     48.000000   \n",
       "number_of_open_complaints         0.000000     0.000000      0.000000   \n",
       "number_of_policies                1.000000     1.000000      2.000000   \n",
       "total_claim_amount                0.099007   272.258244    383.945434   \n",
       "\n",
       "                                        75%           max  \n",
       "customer_lifetime_value         8962.167041  83325.381190  \n",
       "income                         62320.000000  99981.000000  \n",
       "monthly_premium_auto             109.000000    298.000000  \n",
       "months_since_last_claim           23.000000     35.000000  \n",
       "months_since_policy_inception     71.000000     99.000000  \n",
       "number_of_open_complaints          0.000000      5.000000  \n",
       "number_of_policies                 4.000000      9.000000  \n",
       "total_claim_amount               547.514839   2893.239678  "
      ]
     },
     "execution_count": 32,
     "metadata": {},
     "output_type": "execute_result"
    }
   ],
   "source": [
    "numerical_df.describe().T"
   ]
  },
  {
   "cell_type": "code",
   "execution_count": 33,
   "id": "97fce7f4",
   "metadata": {},
   "outputs": [
    {
     "data": {
      "text/plain": [
       "customer_lifetime_value          8041\n",
       "income                           5694\n",
       "monthly_premium_auto              202\n",
       "months_since_last_claim            36\n",
       "months_since_policy_inception     100\n",
       "number_of_open_complaints           6\n",
       "number_of_policies                  9\n",
       "total_claim_amount               5106\n",
       "dtype: int64"
      ]
     },
     "execution_count": 33,
     "metadata": {},
     "output_type": "execute_result"
    }
   ],
   "source": [
    "numerical_df.nunique()"
   ]
  },
  {
   "cell_type": "code",
   "execution_count": 34,
   "id": "efde81ce",
   "metadata": {},
   "outputs": [
    {
     "name": "stdout",
     "output_type": "stream",
     "text": [
      "Column: customer_lifetime_value\n",
      "7200.664877     6\n",
      "17497.522010    6\n",
      "2248.449633     6\n",
      "8092.876960     6\n",
      "6057.072080     6\n",
      "               ..\n",
      "9162.063169     1\n",
      "2374.147419     1\n",
      "6874.848270     1\n",
      "9934.865795     1\n",
      "2611.836866     1\n",
      "Name: customer_lifetime_value, Length: 8041, dtype: int64\n",
      "\n",
      "Column: income\n",
      "0        2317\n",
      "95697      12\n",
      "27972       7\n",
      "25370       7\n",
      "61108       7\n",
      "         ... \n",
      "36529       1\n",
      "25859       1\n",
      "38179       1\n",
      "70190       1\n",
      "21941       1\n",
      "Name: income, Length: 5694, dtype: int64\n",
      "\n",
      "Column: monthly_premium_auto\n",
      "65     348\n",
      "66     307\n",
      "71     304\n",
      "73     302\n",
      "63     289\n",
      "      ... \n",
      "273      1\n",
      "287      1\n",
      "268      1\n",
      "232      1\n",
      "286      1\n",
      "Name: monthly_premium_auto, Length: 202, dtype: int64\n",
      "\n",
      "Column: months_since_last_claim\n",
      "3     381\n",
      "6     364\n",
      "1     345\n",
      "4     335\n",
      "7     333\n",
      "2     329\n",
      "0     314\n",
      "5     313\n",
      "10    306\n",
      "11    297\n",
      "16    295\n",
      "15    286\n",
      "13    285\n",
      "8     279\n",
      "12    273\n",
      "14    268\n",
      "17    263\n",
      "9     250\n",
      "19    246\n",
      "23    239\n",
      "25    236\n",
      "21    233\n",
      "20    231\n",
      "18    229\n",
      "22    218\n",
      "24    211\n",
      "29    206\n",
      "28    201\n",
      "31    190\n",
      "26    186\n",
      "30    182\n",
      "27    182\n",
      "33    179\n",
      "34    169\n",
      "35    142\n",
      "32    138\n",
      "Name: months_since_last_claim, dtype: int64\n",
      "\n",
      "Column: months_since_policy_inception\n",
      "59    142\n",
      "61    128\n",
      "50    125\n",
      "44    115\n",
      "3     114\n",
      "     ... \n",
      "16     70\n",
      "96     67\n",
      "82     56\n",
      "98     54\n",
      "97     52\n",
      "Name: months_since_policy_inception, Length: 100, dtype: int64\n",
      "\n",
      "Column: number_of_open_complaints\n",
      "0    7252\n",
      "1    1011\n",
      "2     374\n",
      "3     292\n",
      "4     149\n",
      "5      56\n",
      "Name: number_of_open_complaints, dtype: int64\n",
      "\n",
      "Column: number_of_policies\n",
      "1    3251\n",
      "2    2294\n",
      "3    1168\n",
      "7     433\n",
      "9     416\n",
      "4     409\n",
      "5     407\n",
      "8     384\n",
      "6     372\n",
      "Name: number_of_policies, dtype: int64\n",
      "\n",
      "Column: total_claim_amount\n",
      "316.800000    116\n",
      "292.800000    110\n",
      "312.000000    108\n",
      "350.400000    105\n",
      "331.200000    102\n",
      "             ... \n",
      "377.442796      1\n",
      "20.985105       1\n",
      "280.897050      1\n",
      "268.130863      1\n",
      "790.784983      1\n",
      "Name: total_claim_amount, Length: 5106, dtype: int64\n",
      "\n"
     ]
    }
   ],
   "source": [
    "def valuecounts(df):    \n",
    "    for c in df.columns:\n",
    "        print ('Column:', c)\n",
    "        print (df[c].value_counts(dropna=False))\n",
    "        print (\"\")\n",
    "    return\n",
    "\n",
    "\n",
    "valuecounts(numerical_df)"
   ]
  },
  {
   "cell_type": "code",
   "execution_count": 35,
   "id": "fc0d47ad",
   "metadata": {},
   "outputs": [],
   "source": [
    "# Alternative #\n",
    "# def valuecounts1(df):\n",
    "#     for col in df.columns:\n",
    "#         print(col, ': ', len(df[col].value_counts()))\n",
    "#     return\n",
    "\n",
    "#valuecounts1(numerical)    "
   ]
  },
  {
   "cell_type": "code",
   "execution_count": 36,
   "id": "37fab53e",
   "metadata": {},
   "outputs": [
    {
     "data": {
      "text/plain": [
       "customer_lifetime_value          [2763.519279, 6979.535903, 12887.43165, 7645.8...\n",
       "income                           [56274, 0, 48767, 43836, 62902, 55350, 14072, ...\n",
       "monthly_premium_auto             [69, 94, 108, 106, 73, 67, 101, 71, 93, 110, 7...\n",
       "months_since_last_claim          [32, 13, 18, 12, 14, 0, 17, 23, 27, 9, 21, 11,...\n",
       "months_since_policy_inception    [5, 42, 38, 65, 44, 94, 13, 68, 3, 7, 87, 82, ...\n",
       "number_of_open_complaints                                       [0, 2, 1, 3, 5, 4]\n",
       "number_of_policies                                     [1, 8, 2, 7, 9, 4, 3, 6, 5]\n",
       "total_claim_amount               [384.811147, 1131.464935, 566.472247, 529.8813...\n",
       "dtype: object"
      ]
     },
     "execution_count": 36,
     "metadata": {},
     "output_type": "execute_result"
    }
   ],
   "source": [
    "numerical_df.apply(pd.Series.unique)"
   ]
  },
  {
   "cell_type": "code",
   "execution_count": 37,
   "id": "c892f04b",
   "metadata": {},
   "outputs": [
    {
     "name": "stdout",
     "output_type": "stream",
     "text": [
      "Old shape (9134, 8)\n"
     ]
    }
   ],
   "source": [
    "print('Old shape', numerical_df.shape)"
   ]
  },
  {
   "cell_type": "code",
   "execution_count": null,
   "id": "0405fa62",
   "metadata": {},
   "outputs": [],
   "source": []
  },
  {
   "cell_type": "markdown",
   "id": "9c0536f3",
   "metadata": {},
   "source": [
    "# Discrete - Continuous"
   ]
  },
  {
   "cell_type": "code",
   "execution_count": 38,
   "id": "58c16a1e",
   "metadata": {},
   "outputs": [],
   "source": [
    "def discrete_continuous(df): # df = dataframe to pass function to\n",
    "        \n",
    "    continuous_lst = [] # set up empty lists\n",
    "    discrete_lst = []\n",
    "    \n",
    "    # column becomes the next column name\n",
    "    for column in df.columns:               \n",
    "        if len(df[column].unique()) < (df.shape[0] * 0.02): # if the number of rows is less than cutoff it is discrete; more than cutoff, it is continuous\n",
    "            discrete_lst.append(column) #append column name to continuous\n",
    "        else:\n",
    "            continuous_lst.append(column)\n",
    "            \n",
    "    cont_df= customer_df[continuous_lst]        \n",
    "    disc_df= customer_df[discrete_lst]\n",
    "    \n",
    "    return disc_df, cont_df\n",
    "\n"
   ]
  },
  {
   "cell_type": "code",
   "execution_count": 39,
   "id": "6e70ef9c",
   "metadata": {},
   "outputs": [],
   "source": [
    "num_discrete_df, num_continuous_df = discrete_continuous(numerical_df)"
   ]
  },
  {
   "cell_type": "code",
   "execution_count": 40,
   "id": "04ad8dc1",
   "metadata": {},
   "outputs": [
    {
     "data": {
      "text/plain": [
       "(9134, 4)"
      ]
     },
     "metadata": {},
     "output_type": "display_data"
    },
    {
     "data": {
      "text/plain": [
       "(9134, 4)"
      ]
     },
     "metadata": {},
     "output_type": "display_data"
    }
   ],
   "source": [
    "display(num_discrete_df.shape)\n",
    "display(num_continuous_df.shape)"
   ]
  },
  {
   "cell_type": "code",
   "execution_count": 41,
   "id": "9d2b6f21",
   "metadata": {},
   "outputs": [
    {
     "data": {
      "text/html": [
       "<div>\n",
       "<style scoped>\n",
       "    .dataframe tbody tr th:only-of-type {\n",
       "        vertical-align: middle;\n",
       "    }\n",
       "\n",
       "    .dataframe tbody tr th {\n",
       "        vertical-align: top;\n",
       "    }\n",
       "\n",
       "    .dataframe thead th {\n",
       "        text-align: right;\n",
       "    }\n",
       "</style>\n",
       "<table border=\"1\" class=\"dataframe\">\n",
       "  <thead>\n",
       "    <tr style=\"text-align: right;\">\n",
       "      <th></th>\n",
       "      <th>months_since_last_claim</th>\n",
       "      <th>months_since_policy_inception</th>\n",
       "      <th>number_of_open_complaints</th>\n",
       "      <th>number_of_policies</th>\n",
       "    </tr>\n",
       "  </thead>\n",
       "  <tbody>\n",
       "    <tr>\n",
       "      <th>0</th>\n",
       "      <td>32</td>\n",
       "      <td>5</td>\n",
       "      <td>0</td>\n",
       "      <td>1</td>\n",
       "    </tr>\n",
       "    <tr>\n",
       "      <th>1</th>\n",
       "      <td>13</td>\n",
       "      <td>42</td>\n",
       "      <td>0</td>\n",
       "      <td>8</td>\n",
       "    </tr>\n",
       "    <tr>\n",
       "      <th>2</th>\n",
       "      <td>18</td>\n",
       "      <td>38</td>\n",
       "      <td>0</td>\n",
       "      <td>2</td>\n",
       "    </tr>\n",
       "    <tr>\n",
       "      <th>3</th>\n",
       "      <td>18</td>\n",
       "      <td>65</td>\n",
       "      <td>0</td>\n",
       "      <td>7</td>\n",
       "    </tr>\n",
       "    <tr>\n",
       "      <th>4</th>\n",
       "      <td>12</td>\n",
       "      <td>44</td>\n",
       "      <td>0</td>\n",
       "      <td>1</td>\n",
       "    </tr>\n",
       "  </tbody>\n",
       "</table>\n",
       "</div>"
      ],
      "text/plain": [
       "   months_since_last_claim  months_since_policy_inception  \\\n",
       "0                       32                              5   \n",
       "1                       13                             42   \n",
       "2                       18                             38   \n",
       "3                       18                             65   \n",
       "4                       12                             44   \n",
       "\n",
       "   number_of_open_complaints  number_of_policies  \n",
       "0                          0                   1  \n",
       "1                          0                   8  \n",
       "2                          0                   2  \n",
       "3                          0                   7  \n",
       "4                          0                   1  "
      ]
     },
     "metadata": {},
     "output_type": "display_data"
    },
    {
     "data": {
      "text/html": [
       "<div>\n",
       "<style scoped>\n",
       "    .dataframe tbody tr th:only-of-type {\n",
       "        vertical-align: middle;\n",
       "    }\n",
       "\n",
       "    .dataframe tbody tr th {\n",
       "        vertical-align: top;\n",
       "    }\n",
       "\n",
       "    .dataframe thead th {\n",
       "        text-align: right;\n",
       "    }\n",
       "</style>\n",
       "<table border=\"1\" class=\"dataframe\">\n",
       "  <thead>\n",
       "    <tr style=\"text-align: right;\">\n",
       "      <th></th>\n",
       "      <th>customer_lifetime_value</th>\n",
       "      <th>income</th>\n",
       "      <th>monthly_premium_auto</th>\n",
       "      <th>total_claim_amount</th>\n",
       "    </tr>\n",
       "  </thead>\n",
       "  <tbody>\n",
       "    <tr>\n",
       "      <th>0</th>\n",
       "      <td>2763.519279</td>\n",
       "      <td>56274</td>\n",
       "      <td>69</td>\n",
       "      <td>384.811147</td>\n",
       "    </tr>\n",
       "    <tr>\n",
       "      <th>1</th>\n",
       "      <td>6979.535903</td>\n",
       "      <td>0</td>\n",
       "      <td>94</td>\n",
       "      <td>1131.464935</td>\n",
       "    </tr>\n",
       "    <tr>\n",
       "      <th>2</th>\n",
       "      <td>12887.431650</td>\n",
       "      <td>48767</td>\n",
       "      <td>108</td>\n",
       "      <td>566.472247</td>\n",
       "    </tr>\n",
       "    <tr>\n",
       "      <th>3</th>\n",
       "      <td>7645.861827</td>\n",
       "      <td>0</td>\n",
       "      <td>106</td>\n",
       "      <td>529.881344</td>\n",
       "    </tr>\n",
       "    <tr>\n",
       "      <th>4</th>\n",
       "      <td>2813.692575</td>\n",
       "      <td>43836</td>\n",
       "      <td>73</td>\n",
       "      <td>138.130879</td>\n",
       "    </tr>\n",
       "  </tbody>\n",
       "</table>\n",
       "</div>"
      ],
      "text/plain": [
       "   customer_lifetime_value  income  monthly_premium_auto  total_claim_amount\n",
       "0              2763.519279   56274                    69          384.811147\n",
       "1              6979.535903       0                    94         1131.464935\n",
       "2             12887.431650   48767                   108          566.472247\n",
       "3              7645.861827       0                   106          529.881344\n",
       "4              2813.692575   43836                    73          138.130879"
      ]
     },
     "metadata": {},
     "output_type": "display_data"
    }
   ],
   "source": [
    "display(num_discrete_df.head())\n",
    "display(num_continuous_df.head())"
   ]
  },
  {
   "cell_type": "markdown",
   "id": "0138e0e5",
   "metadata": {},
   "source": [
    "# Correlations"
   ]
  },
  {
   "cell_type": "code",
   "execution_count": 42,
   "id": "e977b671",
   "metadata": {},
   "outputs": [
    {
     "data": {
      "text/html": [
       "<div>\n",
       "<style scoped>\n",
       "    .dataframe tbody tr th:only-of-type {\n",
       "        vertical-align: middle;\n",
       "    }\n",
       "\n",
       "    .dataframe tbody tr th {\n",
       "        vertical-align: top;\n",
       "    }\n",
       "\n",
       "    .dataframe thead th {\n",
       "        text-align: right;\n",
       "    }\n",
       "</style>\n",
       "<table border=\"1\" class=\"dataframe\">\n",
       "  <thead>\n",
       "    <tr style=\"text-align: right;\">\n",
       "      <th></th>\n",
       "      <th>customer_lifetime_value</th>\n",
       "      <th>income</th>\n",
       "      <th>monthly_premium_auto</th>\n",
       "      <th>months_since_last_claim</th>\n",
       "      <th>months_since_policy_inception</th>\n",
       "      <th>number_of_open_complaints</th>\n",
       "      <th>number_of_policies</th>\n",
       "      <th>total_claim_amount</th>\n",
       "    </tr>\n",
       "  </thead>\n",
       "  <tbody>\n",
       "    <tr>\n",
       "      <th>customer_lifetime_value</th>\n",
       "      <td>1.000000</td>\n",
       "      <td>0.024366</td>\n",
       "      <td>0.396262</td>\n",
       "      <td>0.011517</td>\n",
       "      <td>0.009418</td>\n",
       "      <td>-0.036343</td>\n",
       "      <td>0.021955</td>\n",
       "      <td>0.226451</td>\n",
       "    </tr>\n",
       "    <tr>\n",
       "      <th>income</th>\n",
       "      <td>0.024366</td>\n",
       "      <td>1.000000</td>\n",
       "      <td>-0.016665</td>\n",
       "      <td>-0.026715</td>\n",
       "      <td>-0.000875</td>\n",
       "      <td>0.006408</td>\n",
       "      <td>-0.008656</td>\n",
       "      <td>-0.355254</td>\n",
       "    </tr>\n",
       "    <tr>\n",
       "      <th>monthly_premium_auto</th>\n",
       "      <td>0.396262</td>\n",
       "      <td>-0.016665</td>\n",
       "      <td>1.000000</td>\n",
       "      <td>0.005026</td>\n",
       "      <td>0.020257</td>\n",
       "      <td>-0.013122</td>\n",
       "      <td>-0.011233</td>\n",
       "      <td>0.632017</td>\n",
       "    </tr>\n",
       "    <tr>\n",
       "      <th>months_since_last_claim</th>\n",
       "      <td>0.011517</td>\n",
       "      <td>-0.026715</td>\n",
       "      <td>0.005026</td>\n",
       "      <td>1.000000</td>\n",
       "      <td>-0.042959</td>\n",
       "      <td>0.005354</td>\n",
       "      <td>0.009136</td>\n",
       "      <td>0.007563</td>\n",
       "    </tr>\n",
       "    <tr>\n",
       "      <th>months_since_policy_inception</th>\n",
       "      <td>0.009418</td>\n",
       "      <td>-0.000875</td>\n",
       "      <td>0.020257</td>\n",
       "      <td>-0.042959</td>\n",
       "      <td>1.000000</td>\n",
       "      <td>-0.001158</td>\n",
       "      <td>-0.013333</td>\n",
       "      <td>0.003335</td>\n",
       "    </tr>\n",
       "    <tr>\n",
       "      <th>number_of_open_complaints</th>\n",
       "      <td>-0.036343</td>\n",
       "      <td>0.006408</td>\n",
       "      <td>-0.013122</td>\n",
       "      <td>0.005354</td>\n",
       "      <td>-0.001158</td>\n",
       "      <td>1.000000</td>\n",
       "      <td>0.001498</td>\n",
       "      <td>-0.014241</td>\n",
       "    </tr>\n",
       "    <tr>\n",
       "      <th>number_of_policies</th>\n",
       "      <td>0.021955</td>\n",
       "      <td>-0.008656</td>\n",
       "      <td>-0.011233</td>\n",
       "      <td>0.009136</td>\n",
       "      <td>-0.013333</td>\n",
       "      <td>0.001498</td>\n",
       "      <td>1.000000</td>\n",
       "      <td>-0.002354</td>\n",
       "    </tr>\n",
       "    <tr>\n",
       "      <th>total_claim_amount</th>\n",
       "      <td>0.226451</td>\n",
       "      <td>-0.355254</td>\n",
       "      <td>0.632017</td>\n",
       "      <td>0.007563</td>\n",
       "      <td>0.003335</td>\n",
       "      <td>-0.014241</td>\n",
       "      <td>-0.002354</td>\n",
       "      <td>1.000000</td>\n",
       "    </tr>\n",
       "  </tbody>\n",
       "</table>\n",
       "</div>"
      ],
      "text/plain": [
       "                               customer_lifetime_value    income  \\\n",
       "customer_lifetime_value                       1.000000  0.024366   \n",
       "income                                        0.024366  1.000000   \n",
       "monthly_premium_auto                          0.396262 -0.016665   \n",
       "months_since_last_claim                       0.011517 -0.026715   \n",
       "months_since_policy_inception                 0.009418 -0.000875   \n",
       "number_of_open_complaints                    -0.036343  0.006408   \n",
       "number_of_policies                            0.021955 -0.008656   \n",
       "total_claim_amount                            0.226451 -0.355254   \n",
       "\n",
       "                               monthly_premium_auto  months_since_last_claim  \\\n",
       "customer_lifetime_value                    0.396262                 0.011517   \n",
       "income                                    -0.016665                -0.026715   \n",
       "monthly_premium_auto                       1.000000                 0.005026   \n",
       "months_since_last_claim                    0.005026                 1.000000   \n",
       "months_since_policy_inception              0.020257                -0.042959   \n",
       "number_of_open_complaints                 -0.013122                 0.005354   \n",
       "number_of_policies                        -0.011233                 0.009136   \n",
       "total_claim_amount                         0.632017                 0.007563   \n",
       "\n",
       "                               months_since_policy_inception  \\\n",
       "customer_lifetime_value                             0.009418   \n",
       "income                                             -0.000875   \n",
       "monthly_premium_auto                                0.020257   \n",
       "months_since_last_claim                            -0.042959   \n",
       "months_since_policy_inception                       1.000000   \n",
       "number_of_open_complaints                          -0.001158   \n",
       "number_of_policies                                 -0.013333   \n",
       "total_claim_amount                                  0.003335   \n",
       "\n",
       "                               number_of_open_complaints  number_of_policies  \\\n",
       "customer_lifetime_value                        -0.036343            0.021955   \n",
       "income                                          0.006408           -0.008656   \n",
       "monthly_premium_auto                           -0.013122           -0.011233   \n",
       "months_since_last_claim                         0.005354            0.009136   \n",
       "months_since_policy_inception                  -0.001158           -0.013333   \n",
       "number_of_open_complaints                       1.000000            0.001498   \n",
       "number_of_policies                              0.001498            1.000000   \n",
       "total_claim_amount                             -0.014241           -0.002354   \n",
       "\n",
       "                               total_claim_amount  \n",
       "customer_lifetime_value                  0.226451  \n",
       "income                                  -0.355254  \n",
       "monthly_premium_auto                     0.632017  \n",
       "months_since_last_claim                  0.007563  \n",
       "months_since_policy_inception            0.003335  \n",
       "number_of_open_complaints               -0.014241  \n",
       "number_of_policies                      -0.002354  \n",
       "total_claim_amount                       1.000000  "
      ]
     },
     "execution_count": 42,
     "metadata": {},
     "output_type": "execute_result"
    }
   ],
   "source": [
    "corr_matrix=customer_df.corr() #this only shows numericals anyways\n",
    "corr_matrix"
   ]
  },
  {
   "cell_type": "code",
   "execution_count": 43,
   "id": "e0c51b8d",
   "metadata": {},
   "outputs": [
    {
     "data": {
      "image/png": "[encoded data removed]",
      "text/plain": [
       "<Figure size 576x576 with 2 Axes>"
      ]
     },
     "metadata": {
      "needs_background": "light"
     },
     "output_type": "display_data"
    }
   ],
   "source": [
    "fig, ax = plt.subplots(figsize=(8, 8))\n",
    "ax = sns.heatmap(corr_matrix, annot=True)\n",
    "plt.show()"
   ]
  },
  {
   "cell_type": "markdown",
   "id": "d3227bfd",
   "metadata": {},
   "source": [
    "# Categorical"
   ]
  },
  {
   "cell_type": "code",
   "execution_count": 44,
   "id": "486993aa",
   "metadata": {},
   "outputs": [],
   "source": [
    "#Checking the categorical columns\n",
    "\n",
    "categorical_columns = [col for col in categorical_df if (len(categorical_df[col].unique()) < (numerical_df.shape[0] *0.01))]\n"
   ]
  },
  {
   "cell_type": "code",
   "execution_count": 45,
   "id": "6dd18c36",
   "metadata": {},
   "outputs": [
    {
     "data": {
      "text/plain": [
       "['state',\n",
       " 'response',\n",
       " 'coverage',\n",
       " 'education',\n",
       " 'employmentstatus',\n",
       " 'gender',\n",
       " 'location_code',\n",
       " 'marital_status',\n",
       " 'policy_type',\n",
       " 'policy',\n",
       " 'renew_offer_type',\n",
       " 'sales_channel',\n",
       " 'vehicle_class',\n",
       " 'vehicle_size']"
      ]
     },
     "metadata": {},
     "output_type": "display_data"
    }
   ],
   "source": [
    "display(categorical_columns)"
   ]
  },
  {
   "cell_type": "code",
   "execution_count": 46,
   "id": "84152446",
   "metadata": {},
   "outputs": [],
   "source": [
    "## Question: Does any column contain alpha and numeric data? Decide how to clean it. \n",
    "\n",
    "# ANSWER: customer, policy, and renew_offer_type have alpha and numeric characters.\n",
    "# I will drop the 'customer' column as it does not serve for the purpose of modeling\n",
    "# The others two are categorical and I will keep them but I will modify 'policy'.\n",
    "# Data in all the other columns are made up of only alphabetical characters\n"
   ]
  },
  {
   "cell_type": "code",
   "execution_count": 47,
   "id": "06dfcbb7",
   "metadata": {},
   "outputs": [
    {
     "name": "stderr",
     "output_type": "stream",
     "text": [
      "/var/folders/33/p_3l01b14g96rn22vzwly2g00000gn/T/ipykernel_21329/800197377.py:3: FutureWarning: The default value of regex will change from True to False in a future version.\n",
      "  categorical_df.policy = categorical_df.policy.str.replace(\"\\w* \",'')\n"
     ]
    }
   ],
   "source": [
    "# Dropping the personal-special-corporate info in the 'policy' column (as the same info is\n",
    "    #available in the policy type column)\n",
    "categorical_df.policy = categorical_df.policy.str.replace(\"\\w* \",'')\n"
   ]
  },
  {
   "cell_type": "code",
   "execution_count": 48,
   "id": "4244d098",
   "metadata": {},
   "outputs": [],
   "source": [
    "# Other data preparation activities\n",
    "\n",
    "def clean(df): #combining several unique values in the following columns in a function\n",
    "    df = df.drop(['customer'], axis=1)\n",
    "\n",
    "    df['vehicle_class']= df['vehicle_class'].replace({'Four-Door Car':'Regular Car', 'Two-Door Car':'Regular Car',\n",
    "                                                 'Luxury SUV':'Luxury', 'Luxury Car':'Luxury'})\n",
    "    \n",
    "    df['marital_status']= df['marital_status'].replace({'Divorced':'Single'})\n",
    "    \n",
    "    return df\n",
    "\n",
    "categorical_df= clean(categorical_df)"
   ]
  },
  {
   "cell_type": "code",
   "execution_count": 49,
   "id": "01e12cc5",
   "metadata": {},
   "outputs": [
    {
     "data": {
      "text/html": [
       "<div>\n",
       "<style scoped>\n",
       "    .dataframe tbody tr th:only-of-type {\n",
       "        vertical-align: middle;\n",
       "    }\n",
       "\n",
       "    .dataframe tbody tr th {\n",
       "        vertical-align: top;\n",
       "    }\n",
       "\n",
       "    .dataframe thead th {\n",
       "        text-align: right;\n",
       "    }\n",
       "</style>\n",
       "<table border=\"1\" class=\"dataframe\">\n",
       "  <thead>\n",
       "    <tr style=\"text-align: right;\">\n",
       "      <th></th>\n",
       "      <th>state</th>\n",
       "      <th>response</th>\n",
       "      <th>coverage</th>\n",
       "      <th>education</th>\n",
       "      <th>employmentstatus</th>\n",
       "      <th>gender</th>\n",
       "      <th>location_code</th>\n",
       "      <th>marital_status</th>\n",
       "      <th>policy_type</th>\n",
       "      <th>policy</th>\n",
       "      <th>renew_offer_type</th>\n",
       "      <th>sales_channel</th>\n",
       "      <th>vehicle_class</th>\n",
       "      <th>vehicle_size</th>\n",
       "    </tr>\n",
       "  </thead>\n",
       "  <tbody>\n",
       "    <tr>\n",
       "      <th>0</th>\n",
       "      <td>Washington</td>\n",
       "      <td>No</td>\n",
       "      <td>Basic</td>\n",
       "      <td>Bachelor</td>\n",
       "      <td>Employed</td>\n",
       "      <td>F</td>\n",
       "      <td>Suburban</td>\n",
       "      <td>Married</td>\n",
       "      <td>Corporate Auto</td>\n",
       "      <td>L3</td>\n",
       "      <td>Offer1</td>\n",
       "      <td>Agent</td>\n",
       "      <td>Regular Car</td>\n",
       "      <td>Medsize</td>\n",
       "    </tr>\n",
       "    <tr>\n",
       "      <th>1</th>\n",
       "      <td>Arizona</td>\n",
       "      <td>No</td>\n",
       "      <td>Extended</td>\n",
       "      <td>Bachelor</td>\n",
       "      <td>Unemployed</td>\n",
       "      <td>F</td>\n",
       "      <td>Suburban</td>\n",
       "      <td>Single</td>\n",
       "      <td>Personal Auto</td>\n",
       "      <td>L3</td>\n",
       "      <td>Offer3</td>\n",
       "      <td>Agent</td>\n",
       "      <td>Regular Car</td>\n",
       "      <td>Medsize</td>\n",
       "    </tr>\n",
       "    <tr>\n",
       "      <th>2</th>\n",
       "      <td>Nevada</td>\n",
       "      <td>No</td>\n",
       "      <td>Premium</td>\n",
       "      <td>Bachelor</td>\n",
       "      <td>Employed</td>\n",
       "      <td>F</td>\n",
       "      <td>Suburban</td>\n",
       "      <td>Married</td>\n",
       "      <td>Personal Auto</td>\n",
       "      <td>L3</td>\n",
       "      <td>Offer1</td>\n",
       "      <td>Agent</td>\n",
       "      <td>Regular Car</td>\n",
       "      <td>Medsize</td>\n",
       "    </tr>\n",
       "    <tr>\n",
       "      <th>3</th>\n",
       "      <td>California</td>\n",
       "      <td>No</td>\n",
       "      <td>Basic</td>\n",
       "      <td>Bachelor</td>\n",
       "      <td>Unemployed</td>\n",
       "      <td>M</td>\n",
       "      <td>Suburban</td>\n",
       "      <td>Married</td>\n",
       "      <td>Corporate Auto</td>\n",
       "      <td>L2</td>\n",
       "      <td>Offer1</td>\n",
       "      <td>Call Center</td>\n",
       "      <td>SUV</td>\n",
       "      <td>Medsize</td>\n",
       "    </tr>\n",
       "    <tr>\n",
       "      <th>4</th>\n",
       "      <td>Washington</td>\n",
       "      <td>No</td>\n",
       "      <td>Basic</td>\n",
       "      <td>Bachelor</td>\n",
       "      <td>Employed</td>\n",
       "      <td>M</td>\n",
       "      <td>Rural</td>\n",
       "      <td>Single</td>\n",
       "      <td>Personal Auto</td>\n",
       "      <td>L1</td>\n",
       "      <td>Offer1</td>\n",
       "      <td>Agent</td>\n",
       "      <td>Regular Car</td>\n",
       "      <td>Medsize</td>\n",
       "    </tr>\n",
       "    <tr>\n",
       "      <th>5</th>\n",
       "      <td>Oregon</td>\n",
       "      <td>Yes</td>\n",
       "      <td>Basic</td>\n",
       "      <td>Bachelor</td>\n",
       "      <td>Employed</td>\n",
       "      <td>F</td>\n",
       "      <td>Rural</td>\n",
       "      <td>Married</td>\n",
       "      <td>Personal Auto</td>\n",
       "      <td>L3</td>\n",
       "      <td>Offer2</td>\n",
       "      <td>Web</td>\n",
       "      <td>Regular Car</td>\n",
       "      <td>Medsize</td>\n",
       "    </tr>\n",
       "    <tr>\n",
       "      <th>6</th>\n",
       "      <td>Oregon</td>\n",
       "      <td>Yes</td>\n",
       "      <td>Basic</td>\n",
       "      <td>College</td>\n",
       "      <td>Employed</td>\n",
       "      <td>F</td>\n",
       "      <td>Suburban</td>\n",
       "      <td>Married</td>\n",
       "      <td>Corporate Auto</td>\n",
       "      <td>L3</td>\n",
       "      <td>Offer1</td>\n",
       "      <td>Agent</td>\n",
       "      <td>Regular Car</td>\n",
       "      <td>Medsize</td>\n",
       "    </tr>\n",
       "    <tr>\n",
       "      <th>7</th>\n",
       "      <td>Arizona</td>\n",
       "      <td>No</td>\n",
       "      <td>Premium</td>\n",
       "      <td>Master</td>\n",
       "      <td>Unemployed</td>\n",
       "      <td>M</td>\n",
       "      <td>Urban</td>\n",
       "      <td>Single</td>\n",
       "      <td>Corporate Auto</td>\n",
       "      <td>L3</td>\n",
       "      <td>Offer1</td>\n",
       "      <td>Agent</td>\n",
       "      <td>Regular Car</td>\n",
       "      <td>Medsize</td>\n",
       "    </tr>\n",
       "    <tr>\n",
       "      <th>8</th>\n",
       "      <td>Oregon</td>\n",
       "      <td>Yes</td>\n",
       "      <td>Basic</td>\n",
       "      <td>Bachelor</td>\n",
       "      <td>Medical Leave</td>\n",
       "      <td>M</td>\n",
       "      <td>Suburban</td>\n",
       "      <td>Single</td>\n",
       "      <td>Corporate Auto</td>\n",
       "      <td>L3</td>\n",
       "      <td>Offer1</td>\n",
       "      <td>Agent</td>\n",
       "      <td>Regular Car</td>\n",
       "      <td>Medsize</td>\n",
       "    </tr>\n",
       "    <tr>\n",
       "      <th>9</th>\n",
       "      <td>Oregon</td>\n",
       "      <td>No</td>\n",
       "      <td>Extended</td>\n",
       "      <td>College</td>\n",
       "      <td>Employed</td>\n",
       "      <td>F</td>\n",
       "      <td>Urban</td>\n",
       "      <td>Married</td>\n",
       "      <td>Special Auto</td>\n",
       "      <td>L2</td>\n",
       "      <td>Offer2</td>\n",
       "      <td>Branch</td>\n",
       "      <td>Regular Car</td>\n",
       "      <td>Medsize</td>\n",
       "    </tr>\n",
       "  </tbody>\n",
       "</table>\n",
       "</div>"
      ],
      "text/plain": [
       "        state response  coverage education employmentstatus gender  \\\n",
       "0  Washington       No     Basic  Bachelor         Employed      F   \n",
       "1     Arizona       No  Extended  Bachelor       Unemployed      F   \n",
       "2      Nevada       No   Premium  Bachelor         Employed      F   \n",
       "3  California       No     Basic  Bachelor       Unemployed      M   \n",
       "4  Washington       No     Basic  Bachelor         Employed      M   \n",
       "5      Oregon      Yes     Basic  Bachelor         Employed      F   \n",
       "6      Oregon      Yes     Basic   College         Employed      F   \n",
       "7     Arizona       No   Premium    Master       Unemployed      M   \n",
       "8      Oregon      Yes     Basic  Bachelor    Medical Leave      M   \n",
       "9      Oregon       No  Extended   College         Employed      F   \n",
       "\n",
       "  location_code marital_status     policy_type policy renew_offer_type  \\\n",
       "0      Suburban        Married  Corporate Auto     L3           Offer1   \n",
       "1      Suburban         Single   Personal Auto     L3           Offer3   \n",
       "2      Suburban        Married   Personal Auto     L3           Offer1   \n",
       "3      Suburban        Married  Corporate Auto     L2           Offer1   \n",
       "4         Rural         Single   Personal Auto     L1           Offer1   \n",
       "5         Rural        Married   Personal Auto     L3           Offer2   \n",
       "6      Suburban        Married  Corporate Auto     L3           Offer1   \n",
       "7         Urban         Single  Corporate Auto     L3           Offer1   \n",
       "8      Suburban         Single  Corporate Auto     L3           Offer1   \n",
       "9         Urban        Married    Special Auto     L2           Offer2   \n",
       "\n",
       "  sales_channel vehicle_class vehicle_size  \n",
       "0         Agent   Regular Car      Medsize  \n",
       "1         Agent   Regular Car      Medsize  \n",
       "2         Agent   Regular Car      Medsize  \n",
       "3   Call Center           SUV      Medsize  \n",
       "4         Agent   Regular Car      Medsize  \n",
       "5           Web   Regular Car      Medsize  \n",
       "6         Agent   Regular Car      Medsize  \n",
       "7         Agent   Regular Car      Medsize  \n",
       "8         Agent   Regular Car      Medsize  \n",
       "9        Branch   Regular Car      Medsize  "
      ]
     },
     "execution_count": 49,
     "metadata": {},
     "output_type": "execute_result"
    }
   ],
   "source": [
    "#Cross checking categoricals in the dataset\n",
    "categorical_df.head(10)"
   ]
  },
  {
   "cell_type": "code",
   "execution_count": 50,
   "id": "a2d2ab50",
   "metadata": {},
   "outputs": [
    {
     "data": {
      "image/png": "[encoded data removed]",
      "text/plain": [
       "<Figure size 432x288 with 1 Axes>"
      ]
     },
     "metadata": {
      "needs_background": "light"
     },
     "output_type": "display_data"
    },
    {
     "data": {
      "image/png": "[encoded data removed]",
      "text/plain": [
       "<Figure size 432x288 with 1 Axes>"
      ]
     },
     "metadata": {
      "needs_background": "light"
     },
     "output_type": "display_data"
    },
    {
     "data": {
      "image/png": "[encoded data removed]",
      "text/plain": [
       "<Figure size 432x288 with 1 Axes>"
      ]
     },
     "metadata": {
      "needs_background": "light"
     },
     "output_type": "display_data"
    },
    {
     "data": {
      "image/png": "[encoded data removed]",
      "text/plain": [
       "<Figure size 432x288 with 1 Axes>"
      ]
     },
     "metadata": {
      "needs_background": "light"
     },
     "output_type": "display_data"
    },
    {
     "data": {
      "image/png": "[encoded data removed]",
      "text/plain": [
       "<Figure size 432x288 with 1 Axes>"
      ]
     },
     "metadata": {
      "needs_background": "light"
     },
     "output_type": "display_data"
    },
    {
     "data": {
      "image/png": "[encoded data removed]",
      "text/plain": [
       "<Figure size 432x288 with 1 Axes>"
      ]
     },
     "metadata": {
      "needs_background": "light"
     },
     "output_type": "display_data"
    },
    {
     "data": {
      "image/png": "[encoded data removed]",
      "text/plain": [
       "<Figure size 432x288 with 1 Axes>"
      ]
     },
     "metadata": {
      "needs_background": "light"
     },
     "output_type": "display_data"
    },
    {
     "data": {
      "image/png": "[encoded data removed]",
      "text/plain": [
       "<Figure size 432x288 with 1 Axes>"
      ]
     },
     "metadata": {
      "needs_background": "light"
     },
     "output_type": "display_data"
    },
    {
     "data": {
      "image/png": "[encoded data removed]",
      "text/plain": [
       "<Figure size 432x288 with 1 Axes>"
      ]
     },
     "metadata": {
      "needs_background": "light"
     },
     "output_type": "display_data"
    },
    {
     "data": {
      "image/png": "[encoded data removed]",
      "text/plain": [
       "<Figure size 432x288 with 1 Axes>"
      ]
     },
     "metadata": {
      "needs_background": "light"
     },
     "output_type": "display_data"
    },
    {
     "data": {
      "image/png": "[encoded data removed]",
      "text/plain": [
       "<Figure size 432x288 with 1 Axes>"
      ]
     },
     "metadata": {
      "needs_background": "light"
     },
     "output_type": "display_data"
    },
    {
     "data": {
      "image/png": "[encoded data removed]",
      "text/plain": [
       "<Figure size 432x288 with 1 Axes>"
      ]
     },
     "metadata": {
      "needs_background": "light"
     },
     "output_type": "display_data"
    },
    {
     "data": {
      "image/png": "[encoded data removed]",
      "text/plain": [
       "<Figure size 432x288 with 1 Axes>"
      ]
     },
     "metadata": {
      "needs_background": "light"
     },
     "output_type": "display_data"
    },
    {
     "data": {
      "image/png": "[encoded data removed]",
      "text/plain": [
       "<Figure size 432x288 with 1 Axes>"
      ]
     },
     "metadata": {
      "needs_background": "light"
     },
     "output_type": "display_data"
    }
   ],
   "source": [
    "def plot_countplot(df): # for categorical and discrete-numerical columns\n",
    "    for column in df.columns:\n",
    "        sns.countplot(x=df[column])\n",
    "        plt.show()\n",
    "    return None\n",
    "\n",
    "plot_countplot(categorical_df)"
   ]
  },
  {
   "cell_type": "markdown",
   "id": "635149e0",
   "metadata": {},
   "source": [
    "# Ordinal Encoding"
   ]
  },
  {
   "cell_type": "code",
   "execution_count": 51,
   "id": "bd3c491a",
   "metadata": {},
   "outputs": [],
   "source": [
    "# Note: As we are going to minmax scale the numericala, it is best to\n",
    "        # either assign the ordinal encoding numbers between 0 and 1\n",
    "        # or later minmax scale the ordinal encoded columns."
   ]
  },
  {
   "cell_type": "code",
   "execution_count": 52,
   "id": "d1e27651",
   "metadata": {},
   "outputs": [],
   "source": [
    "categorical_df[\"coverage\"] = categorical_df[\"coverage\"].map({\"Basic\" : 0, \"Extended\" : 0.5, \"Premium\" : 1})\n"
   ]
  },
  {
   "cell_type": "code",
   "execution_count": 53,
   "id": "8d8ec212",
   "metadata": {},
   "outputs": [],
   "source": [
    "categorical_df[\"education\"] = categorical_df[\"education\"].map({\"High School or Below\" : 0, \"College\" : 0.1, \"Bachelor\" : 0.3, \"Master\" : 0.6, \"Doctor\" : 1})\n"
   ]
  },
  {
   "cell_type": "code",
   "execution_count": 54,
   "id": "db2b50b5",
   "metadata": {},
   "outputs": [],
   "source": [
    "categorical_df[\"employmentstatus\"] = categorical_df[\"employmentstatus\"].map({\"Medical Leave\" : 0,\"Disabled\" : 0, \"Unemployed\" : 0, \"Retired\" : 0.25, \"Employed\" : 1})\n"
   ]
  },
  {
   "cell_type": "code",
   "execution_count": 55,
   "id": "b87b130f",
   "metadata": {},
   "outputs": [],
   "source": [
    "categorical_df[\"location_code\"] = categorical_df[\"location_code\"].map({\"Rural\" : 0, \"Suburban\" : 0.25, \"Urban\" : 1})\n"
   ]
  },
  {
   "cell_type": "code",
   "execution_count": 56,
   "id": "982f96ba",
   "metadata": {},
   "outputs": [],
   "source": [
    "categorical_df[\"vehicle_size\"] = categorical_df[\"vehicle_size\"].map({\"Small\" : 0, \"Medsize\" : 0.5, \"Large\" : 1})\n"
   ]
  },
  {
   "cell_type": "code",
   "execution_count": 57,
   "id": "14654910",
   "metadata": {},
   "outputs": [
    {
     "data": {
      "text/html": [
       "<div>\n",
       "<style scoped>\n",
       "    .dataframe tbody tr th:only-of-type {\n",
       "        vertical-align: middle;\n",
       "    }\n",
       "\n",
       "    .dataframe tbody tr th {\n",
       "        vertical-align: top;\n",
       "    }\n",
       "\n",
       "    .dataframe thead th {\n",
       "        text-align: right;\n",
       "    }\n",
       "</style>\n",
       "<table border=\"1\" class=\"dataframe\">\n",
       "  <thead>\n",
       "    <tr style=\"text-align: right;\">\n",
       "      <th></th>\n",
       "      <th>state</th>\n",
       "      <th>response</th>\n",
       "      <th>coverage</th>\n",
       "      <th>education</th>\n",
       "      <th>employmentstatus</th>\n",
       "      <th>gender</th>\n",
       "      <th>location_code</th>\n",
       "      <th>marital_status</th>\n",
       "      <th>policy_type</th>\n",
       "      <th>policy</th>\n",
       "      <th>renew_offer_type</th>\n",
       "      <th>sales_channel</th>\n",
       "      <th>vehicle_class</th>\n",
       "      <th>vehicle_size</th>\n",
       "    </tr>\n",
       "  </thead>\n",
       "  <tbody>\n",
       "    <tr>\n",
       "      <th>0</th>\n",
       "      <td>Washington</td>\n",
       "      <td>No</td>\n",
       "      <td>0.0</td>\n",
       "      <td>0.3</td>\n",
       "      <td>1.0</td>\n",
       "      <td>F</td>\n",
       "      <td>0.25</td>\n",
       "      <td>Married</td>\n",
       "      <td>Corporate Auto</td>\n",
       "      <td>L3</td>\n",
       "      <td>Offer1</td>\n",
       "      <td>Agent</td>\n",
       "      <td>Regular Car</td>\n",
       "      <td>0.5</td>\n",
       "    </tr>\n",
       "    <tr>\n",
       "      <th>1</th>\n",
       "      <td>Arizona</td>\n",
       "      <td>No</td>\n",
       "      <td>0.5</td>\n",
       "      <td>0.3</td>\n",
       "      <td>0.0</td>\n",
       "      <td>F</td>\n",
       "      <td>0.25</td>\n",
       "      <td>Single</td>\n",
       "      <td>Personal Auto</td>\n",
       "      <td>L3</td>\n",
       "      <td>Offer3</td>\n",
       "      <td>Agent</td>\n",
       "      <td>Regular Car</td>\n",
       "      <td>0.5</td>\n",
       "    </tr>\n",
       "    <tr>\n",
       "      <th>2</th>\n",
       "      <td>Nevada</td>\n",
       "      <td>No</td>\n",
       "      <td>1.0</td>\n",
       "      <td>0.3</td>\n",
       "      <td>1.0</td>\n",
       "      <td>F</td>\n",
       "      <td>0.25</td>\n",
       "      <td>Married</td>\n",
       "      <td>Personal Auto</td>\n",
       "      <td>L3</td>\n",
       "      <td>Offer1</td>\n",
       "      <td>Agent</td>\n",
       "      <td>Regular Car</td>\n",
       "      <td>0.5</td>\n",
       "    </tr>\n",
       "    <tr>\n",
       "      <th>3</th>\n",
       "      <td>California</td>\n",
       "      <td>No</td>\n",
       "      <td>0.0</td>\n",
       "      <td>0.3</td>\n",
       "      <td>0.0</td>\n",
       "      <td>M</td>\n",
       "      <td>0.25</td>\n",
       "      <td>Married</td>\n",
       "      <td>Corporate Auto</td>\n",
       "      <td>L2</td>\n",
       "      <td>Offer1</td>\n",
       "      <td>Call Center</td>\n",
       "      <td>SUV</td>\n",
       "      <td>0.5</td>\n",
       "    </tr>\n",
       "    <tr>\n",
       "      <th>4</th>\n",
       "      <td>Washington</td>\n",
       "      <td>No</td>\n",
       "      <td>0.0</td>\n",
       "      <td>0.3</td>\n",
       "      <td>1.0</td>\n",
       "      <td>M</td>\n",
       "      <td>0.00</td>\n",
       "      <td>Single</td>\n",
       "      <td>Personal Auto</td>\n",
       "      <td>L1</td>\n",
       "      <td>Offer1</td>\n",
       "      <td>Agent</td>\n",
       "      <td>Regular Car</td>\n",
       "      <td>0.5</td>\n",
       "    </tr>\n",
       "  </tbody>\n",
       "</table>\n",
       "</div>"
      ],
      "text/plain": [
       "        state response  coverage  education  employmentstatus gender  \\\n",
       "0  Washington       No       0.0        0.3               1.0      F   \n",
       "1     Arizona       No       0.5        0.3               0.0      F   \n",
       "2      Nevada       No       1.0        0.3               1.0      F   \n",
       "3  California       No       0.0        0.3               0.0      M   \n",
       "4  Washington       No       0.0        0.3               1.0      M   \n",
       "\n",
       "   location_code marital_status     policy_type policy renew_offer_type  \\\n",
       "0           0.25        Married  Corporate Auto     L3           Offer1   \n",
       "1           0.25         Single   Personal Auto     L3           Offer3   \n",
       "2           0.25        Married   Personal Auto     L3           Offer1   \n",
       "3           0.25        Married  Corporate Auto     L2           Offer1   \n",
       "4           0.00         Single   Personal Auto     L1           Offer1   \n",
       "\n",
       "  sales_channel vehicle_class  vehicle_size  \n",
       "0         Agent   Regular Car           0.5  \n",
       "1         Agent   Regular Car           0.5  \n",
       "2         Agent   Regular Car           0.5  \n",
       "3   Call Center           SUV           0.5  \n",
       "4         Agent   Regular Car           0.5  "
      ]
     },
     "execution_count": 57,
     "metadata": {},
     "output_type": "execute_result"
    }
   ],
   "source": [
    "categorical_df.head()"
   ]
  },
  {
   "cell_type": "markdown",
   "id": "4bc13534",
   "metadata": {},
   "source": [
    "# Concatenating numerical and categorical"
   ]
  },
  {
   "cell_type": "code",
   "execution_count": 58,
   "id": "4f9e5f0d",
   "metadata": {},
   "outputs": [],
   "source": [
    "# (ordinal encoding DONE, scaling NOT)"
   ]
  },
  {
   "cell_type": "code",
   "execution_count": 59,
   "id": "a0f97da9",
   "metadata": {},
   "outputs": [
    {
     "data": {
      "text/html": [
       "<div>\n",
       "<style scoped>\n",
       "    .dataframe tbody tr th:only-of-type {\n",
       "        vertical-align: middle;\n",
       "    }\n",
       "\n",
       "    .dataframe tbody tr th {\n",
       "        vertical-align: top;\n",
       "    }\n",
       "\n",
       "    .dataframe thead th {\n",
       "        text-align: right;\n",
       "    }\n",
       "</style>\n",
       "<table border=\"1\" class=\"dataframe\">\n",
       "  <thead>\n",
       "    <tr style=\"text-align: right;\">\n",
       "      <th></th>\n",
       "      <th>customer_lifetime_value</th>\n",
       "      <th>income</th>\n",
       "      <th>monthly_premium_auto</th>\n",
       "      <th>months_since_last_claim</th>\n",
       "      <th>months_since_policy_inception</th>\n",
       "      <th>number_of_open_complaints</th>\n",
       "      <th>number_of_policies</th>\n",
       "      <th>total_claim_amount</th>\n",
       "      <th>state</th>\n",
       "      <th>response</th>\n",
       "      <th>coverage</th>\n",
       "      <th>education</th>\n",
       "      <th>employmentstatus</th>\n",
       "      <th>gender</th>\n",
       "      <th>location_code</th>\n",
       "      <th>marital_status</th>\n",
       "      <th>policy_type</th>\n",
       "      <th>policy</th>\n",
       "      <th>renew_offer_type</th>\n",
       "      <th>sales_channel</th>\n",
       "      <th>vehicle_class</th>\n",
       "      <th>vehicle_size</th>\n",
       "    </tr>\n",
       "  </thead>\n",
       "  <tbody>\n",
       "    <tr>\n",
       "      <th>0</th>\n",
       "      <td>2763.519279</td>\n",
       "      <td>56274</td>\n",
       "      <td>69</td>\n",
       "      <td>32</td>\n",
       "      <td>5</td>\n",
       "      <td>0</td>\n",
       "      <td>1</td>\n",
       "      <td>384.811147</td>\n",
       "      <td>Washington</td>\n",
       "      <td>No</td>\n",
       "      <td>0.0</td>\n",
       "      <td>0.3</td>\n",
       "      <td>1.0</td>\n",
       "      <td>F</td>\n",
       "      <td>0.25</td>\n",
       "      <td>Married</td>\n",
       "      <td>Corporate Auto</td>\n",
       "      <td>L3</td>\n",
       "      <td>Offer1</td>\n",
       "      <td>Agent</td>\n",
       "      <td>Regular Car</td>\n",
       "      <td>0.5</td>\n",
       "    </tr>\n",
       "    <tr>\n",
       "      <th>1</th>\n",
       "      <td>6979.535903</td>\n",
       "      <td>0</td>\n",
       "      <td>94</td>\n",
       "      <td>13</td>\n",
       "      <td>42</td>\n",
       "      <td>0</td>\n",
       "      <td>8</td>\n",
       "      <td>1131.464935</td>\n",
       "      <td>Arizona</td>\n",
       "      <td>No</td>\n",
       "      <td>0.5</td>\n",
       "      <td>0.3</td>\n",
       "      <td>0.0</td>\n",
       "      <td>F</td>\n",
       "      <td>0.25</td>\n",
       "      <td>Single</td>\n",
       "      <td>Personal Auto</td>\n",
       "      <td>L3</td>\n",
       "      <td>Offer3</td>\n",
       "      <td>Agent</td>\n",
       "      <td>Regular Car</td>\n",
       "      <td>0.5</td>\n",
       "    </tr>\n",
       "    <tr>\n",
       "      <th>2</th>\n",
       "      <td>12887.431650</td>\n",
       "      <td>48767</td>\n",
       "      <td>108</td>\n",
       "      <td>18</td>\n",
       "      <td>38</td>\n",
       "      <td>0</td>\n",
       "      <td>2</td>\n",
       "      <td>566.472247</td>\n",
       "      <td>Nevada</td>\n",
       "      <td>No</td>\n",
       "      <td>1.0</td>\n",
       "      <td>0.3</td>\n",
       "      <td>1.0</td>\n",
       "      <td>F</td>\n",
       "      <td>0.25</td>\n",
       "      <td>Married</td>\n",
       "      <td>Personal Auto</td>\n",
       "      <td>L3</td>\n",
       "      <td>Offer1</td>\n",
       "      <td>Agent</td>\n",
       "      <td>Regular Car</td>\n",
       "      <td>0.5</td>\n",
       "    </tr>\n",
       "    <tr>\n",
       "      <th>3</th>\n",
       "      <td>7645.861827</td>\n",
       "      <td>0</td>\n",
       "      <td>106</td>\n",
       "      <td>18</td>\n",
       "      <td>65</td>\n",
       "      <td>0</td>\n",
       "      <td>7</td>\n",
       "      <td>529.881344</td>\n",
       "      <td>California</td>\n",
       "      <td>No</td>\n",
       "      <td>0.0</td>\n",
       "      <td>0.3</td>\n",
       "      <td>0.0</td>\n",
       "      <td>M</td>\n",
       "      <td>0.25</td>\n",
       "      <td>Married</td>\n",
       "      <td>Corporate Auto</td>\n",
       "      <td>L2</td>\n",
       "      <td>Offer1</td>\n",
       "      <td>Call Center</td>\n",
       "      <td>SUV</td>\n",
       "      <td>0.5</td>\n",
       "    </tr>\n",
       "    <tr>\n",
       "      <th>4</th>\n",
       "      <td>2813.692575</td>\n",
       "      <td>43836</td>\n",
       "      <td>73</td>\n",
       "      <td>12</td>\n",
       "      <td>44</td>\n",
       "      <td>0</td>\n",
       "      <td>1</td>\n",
       "      <td>138.130879</td>\n",
       "      <td>Washington</td>\n",
       "      <td>No</td>\n",
       "      <td>0.0</td>\n",
       "      <td>0.3</td>\n",
       "      <td>1.0</td>\n",
       "      <td>M</td>\n",
       "      <td>0.00</td>\n",
       "      <td>Single</td>\n",
       "      <td>Personal Auto</td>\n",
       "      <td>L1</td>\n",
       "      <td>Offer1</td>\n",
       "      <td>Agent</td>\n",
       "      <td>Regular Car</td>\n",
       "      <td>0.5</td>\n",
       "    </tr>\n",
       "  </tbody>\n",
       "</table>\n",
       "</div>"
      ],
      "text/plain": [
       "   customer_lifetime_value  income  monthly_premium_auto  \\\n",
       "0              2763.519279   56274                    69   \n",
       "1              6979.535903       0                    94   \n",
       "2             12887.431650   48767                   108   \n",
       "3              7645.861827       0                   106   \n",
       "4              2813.692575   43836                    73   \n",
       "\n",
       "   months_since_last_claim  months_since_policy_inception  \\\n",
       "0                       32                              5   \n",
       "1                       13                             42   \n",
       "2                       18                             38   \n",
       "3                       18                             65   \n",
       "4                       12                             44   \n",
       "\n",
       "   number_of_open_complaints  number_of_policies  total_claim_amount  \\\n",
       "0                          0                   1          384.811147   \n",
       "1                          0                   8         1131.464935   \n",
       "2                          0                   2          566.472247   \n",
       "3                          0                   7          529.881344   \n",
       "4                          0                   1          138.130879   \n",
       "\n",
       "        state response  coverage  education  employmentstatus gender  \\\n",
       "0  Washington       No       0.0        0.3               1.0      F   \n",
       "1     Arizona       No       0.5        0.3               0.0      F   \n",
       "2      Nevada       No       1.0        0.3               1.0      F   \n",
       "3  California       No       0.0        0.3               0.0      M   \n",
       "4  Washington       No       0.0        0.3               1.0      M   \n",
       "\n",
       "   location_code marital_status     policy_type policy renew_offer_type  \\\n",
       "0           0.25        Married  Corporate Auto     L3           Offer1   \n",
       "1           0.25         Single   Personal Auto     L3           Offer3   \n",
       "2           0.25        Married   Personal Auto     L3           Offer1   \n",
       "3           0.25        Married  Corporate Auto     L2           Offer1   \n",
       "4           0.00         Single   Personal Auto     L1           Offer1   \n",
       "\n",
       "  sales_channel vehicle_class  vehicle_size  \n",
       "0         Agent   Regular Car           0.5  \n",
       "1         Agent   Regular Car           0.5  \n",
       "2         Agent   Regular Car           0.5  \n",
       "3   Call Center           SUV           0.5  \n",
       "4         Agent   Regular Car           0.5  "
      ]
     },
     "execution_count": 59,
     "metadata": {},
     "output_type": "execute_result"
    }
   ],
   "source": [
    "X_all = pd.concat([numerical_df,categorical_df], axis = 1)\n",
    "X_all.head()"
   ]
  },
  {
   "cell_type": "markdown",
   "id": "6283e522",
   "metadata": {},
   "source": [
    "# X-y split"
   ]
  },
  {
   "cell_type": "code",
   "execution_count": 60,
   "id": "d8d0746b",
   "metadata": {},
   "outputs": [],
   "source": [
    "X=X_all.drop('total_claim_amount', axis=1)\n",
    "y=X_all['total_claim_amount']"
   ]
  },
  {
   "cell_type": "code",
   "execution_count": 61,
   "id": "dcca9b74",
   "metadata": {},
   "outputs": [
    {
     "data": {
      "text/plain": [
       "customer_lifetime_value          0\n",
       "income                           0\n",
       "monthly_premium_auto             0\n",
       "months_since_last_claim          0\n",
       "months_since_policy_inception    0\n",
       "number_of_open_complaints        0\n",
       "number_of_policies               0\n",
       "state                            0\n",
       "response                         0\n",
       "coverage                         0\n",
       "education                        0\n",
       "employmentstatus                 0\n",
       "gender                           0\n",
       "location_code                    0\n",
       "marital_status                   0\n",
       "policy_type                      0\n",
       "policy                           0\n",
       "renew_offer_type                 0\n",
       "sales_channel                    0\n",
       "vehicle_class                    0\n",
       "vehicle_size                     0\n",
       "dtype: int64"
      ]
     },
     "execution_count": 61,
     "metadata": {},
     "output_type": "execute_result"
    }
   ],
   "source": [
    "X.isna().sum()"
   ]
  },
  {
   "cell_type": "markdown",
   "id": "4458c6e7",
   "metadata": {},
   "source": [
    "# Train-test split"
   ]
  },
  {
   "cell_type": "code",
   "execution_count": 62,
   "id": "c5dc130f",
   "metadata": {},
   "outputs": [
    {
     "name": "stdout",
     "output_type": "stream",
     "text": [
      "X_train shape:  (7307, 21)\n",
      "X_test shape:  (1827, 21)\n",
      "y_train shape:  (7307,)\n",
      "y_test shape:  (1827,)\n"
     ]
    }
   ],
   "source": [
    "X_train, X_test, y_train, y_test = train_test_split(X, y, test_size=0.2, random_state=13)\n",
    "\n",
    "print('X_train shape: ', X_train.shape)\n",
    "print('X_test shape: ', X_test.shape)\n",
    "print('y_train shape: ', y_train.shape)\n",
    "print('y_test shape: ', y_test.shape)"
   ]
  },
  {
   "cell_type": "markdown",
   "id": "af8ae31a",
   "metadata": {},
   "source": [
    "# Numerical-Categorical"
   ]
  },
  {
   "cell_type": "code",
   "execution_count": 63,
   "id": "f5b77682",
   "metadata": {},
   "outputs": [],
   "source": [
    "X_train_num = X_train.select_dtypes(include = np.number)\n",
    "X_test_num  = X_test.select_dtypes(include = np.number)\n",
    "X_train_cat = X_train.select_dtypes(include = object)\n",
    "X_test_cat  = X_test.select_dtypes(include = object)"
   ]
  },
  {
   "cell_type": "markdown",
   "id": "163e25c5",
   "metadata": {},
   "source": [
    "# MinMax scaling"
   ]
  },
  {
   "cell_type": "code",
   "execution_count": 64,
   "id": "fe05d0e9",
   "metadata": {},
   "outputs": [],
   "source": [
    "transformer = MinMaxScaler().fit(X_train_num)"
   ]
  },
  {
   "cell_type": "code",
   "execution_count": 65,
   "id": "f6af790c",
   "metadata": {},
   "outputs": [
    {
     "data": {
      "text/html": [
       "<div>\n",
       "<style scoped>\n",
       "    .dataframe tbody tr th:only-of-type {\n",
       "        vertical-align: middle;\n",
       "    }\n",
       "\n",
       "    .dataframe tbody tr th {\n",
       "        vertical-align: top;\n",
       "    }\n",
       "\n",
       "    .dataframe thead th {\n",
       "        text-align: right;\n",
       "    }\n",
       "</style>\n",
       "<table border=\"1\" class=\"dataframe\">\n",
       "  <thead>\n",
       "    <tr style=\"text-align: right;\">\n",
       "      <th></th>\n",
       "      <th>customer_lifetime_value</th>\n",
       "      <th>income</th>\n",
       "      <th>monthly_premium_auto</th>\n",
       "      <th>months_since_last_claim</th>\n",
       "      <th>months_since_policy_inception</th>\n",
       "      <th>number_of_open_complaints</th>\n",
       "      <th>number_of_policies</th>\n",
       "      <th>coverage</th>\n",
       "      <th>education</th>\n",
       "      <th>employmentstatus</th>\n",
       "      <th>location_code</th>\n",
       "      <th>vehicle_size</th>\n",
       "    </tr>\n",
       "  </thead>\n",
       "  <tbody>\n",
       "    <tr>\n",
       "      <th>0</th>\n",
       "      <td>0.042134</td>\n",
       "      <td>0.810794</td>\n",
       "      <td>0.038136</td>\n",
       "      <td>0.571429</td>\n",
       "      <td>0.040404</td>\n",
       "      <td>0.8</td>\n",
       "      <td>0.250</td>\n",
       "      <td>0.0</td>\n",
       "      <td>0.1</td>\n",
       "      <td>1.0</td>\n",
       "      <td>0.00</td>\n",
       "      <td>1.0</td>\n",
       "    </tr>\n",
       "    <tr>\n",
       "      <th>1</th>\n",
       "      <td>0.008654</td>\n",
       "      <td>0.419660</td>\n",
       "      <td>0.021186</td>\n",
       "      <td>0.428571</td>\n",
       "      <td>0.494949</td>\n",
       "      <td>0.2</td>\n",
       "      <td>0.000</td>\n",
       "      <td>0.0</td>\n",
       "      <td>0.6</td>\n",
       "      <td>1.0</td>\n",
       "      <td>1.00</td>\n",
       "      <td>0.0</td>\n",
       "    </tr>\n",
       "    <tr>\n",
       "      <th>2</th>\n",
       "      <td>0.036431</td>\n",
       "      <td>0.374131</td>\n",
       "      <td>0.258475</td>\n",
       "      <td>0.657143</td>\n",
       "      <td>0.383838</td>\n",
       "      <td>0.2</td>\n",
       "      <td>0.000</td>\n",
       "      <td>0.5</td>\n",
       "      <td>0.3</td>\n",
       "      <td>1.0</td>\n",
       "      <td>0.25</td>\n",
       "      <td>0.0</td>\n",
       "    </tr>\n",
       "    <tr>\n",
       "      <th>3</th>\n",
       "      <td>0.074966</td>\n",
       "      <td>0.000000</td>\n",
       "      <td>0.194915</td>\n",
       "      <td>0.085714</td>\n",
       "      <td>0.656566</td>\n",
       "      <td>0.0</td>\n",
       "      <td>0.250</td>\n",
       "      <td>0.0</td>\n",
       "      <td>0.1</td>\n",
       "      <td>0.0</td>\n",
       "      <td>0.25</td>\n",
       "      <td>0.5</td>\n",
       "    </tr>\n",
       "    <tr>\n",
       "      <th>4</th>\n",
       "      <td>0.140581</td>\n",
       "      <td>0.802923</td>\n",
       "      <td>0.216102</td>\n",
       "      <td>0.171429</td>\n",
       "      <td>0.404040</td>\n",
       "      <td>0.2</td>\n",
       "      <td>0.125</td>\n",
       "      <td>0.0</td>\n",
       "      <td>0.3</td>\n",
       "      <td>1.0</td>\n",
       "      <td>0.00</td>\n",
       "      <td>0.5</td>\n",
       "    </tr>\n",
       "  </tbody>\n",
       "</table>\n",
       "</div>"
      ],
      "text/plain": [
       "   customer_lifetime_value    income  monthly_premium_auto  \\\n",
       "0                 0.042134  0.810794              0.038136   \n",
       "1                 0.008654  0.419660              0.021186   \n",
       "2                 0.036431  0.374131              0.258475   \n",
       "3                 0.074966  0.000000              0.194915   \n",
       "4                 0.140581  0.802923              0.216102   \n",
       "\n",
       "   months_since_last_claim  months_since_policy_inception  \\\n",
       "0                 0.571429                       0.040404   \n",
       "1                 0.428571                       0.494949   \n",
       "2                 0.657143                       0.383838   \n",
       "3                 0.085714                       0.656566   \n",
       "4                 0.171429                       0.404040   \n",
       "\n",
       "   number_of_open_complaints  number_of_policies  coverage  education  \\\n",
       "0                        0.8               0.250       0.0        0.1   \n",
       "1                        0.2               0.000       0.0        0.6   \n",
       "2                        0.2               0.000       0.5        0.3   \n",
       "3                        0.0               0.250       0.0        0.1   \n",
       "4                        0.2               0.125       0.0        0.3   \n",
       "\n",
       "   employmentstatus  location_code  vehicle_size  \n",
       "0               1.0           0.00           1.0  \n",
       "1               1.0           1.00           0.0  \n",
       "2               1.0           0.25           0.0  \n",
       "3               0.0           0.25           0.5  \n",
       "4               1.0           0.00           0.5  "
      ]
     },
     "execution_count": 65,
     "metadata": {},
     "output_type": "execute_result"
    }
   ],
   "source": [
    "#X_train\n",
    "\n",
    "X_norm1 = transformer.transform(X_train_num)\n",
    "X_train_scale = pd.DataFrame(X_norm1,columns=X_train_num.columns)\n",
    "X_train_scale.head()"
   ]
  },
  {
   "cell_type": "code",
   "execution_count": 66,
   "id": "7d4e3ed7",
   "metadata": {},
   "outputs": [
    {
     "data": {
      "text/html": [
       "<div>\n",
       "<style scoped>\n",
       "    .dataframe tbody tr th:only-of-type {\n",
       "        vertical-align: middle;\n",
       "    }\n",
       "\n",
       "    .dataframe tbody tr th {\n",
       "        vertical-align: top;\n",
       "    }\n",
       "\n",
       "    .dataframe thead th {\n",
       "        text-align: right;\n",
       "    }\n",
       "</style>\n",
       "<table border=\"1\" class=\"dataframe\">\n",
       "  <thead>\n",
       "    <tr style=\"text-align: right;\">\n",
       "      <th></th>\n",
       "      <th>customer_lifetime_value</th>\n",
       "      <th>income</th>\n",
       "      <th>monthly_premium_auto</th>\n",
       "      <th>months_since_last_claim</th>\n",
       "      <th>months_since_policy_inception</th>\n",
       "      <th>number_of_open_complaints</th>\n",
       "      <th>number_of_policies</th>\n",
       "      <th>coverage</th>\n",
       "      <th>education</th>\n",
       "      <th>employmentstatus</th>\n",
       "      <th>location_code</th>\n",
       "      <th>vehicle_size</th>\n",
       "    </tr>\n",
       "  </thead>\n",
       "  <tbody>\n",
       "    <tr>\n",
       "      <th>0</th>\n",
       "      <td>0.006821</td>\n",
       "      <td>0.837879</td>\n",
       "      <td>0.004237</td>\n",
       "      <td>0.371429</td>\n",
       "      <td>0.767677</td>\n",
       "      <td>0.0</td>\n",
       "      <td>0.000</td>\n",
       "      <td>0.0</td>\n",
       "      <td>0.1</td>\n",
       "      <td>1.0</td>\n",
       "      <td>0.00</td>\n",
       "      <td>1.0</td>\n",
       "    </tr>\n",
       "    <tr>\n",
       "      <th>1</th>\n",
       "      <td>0.083444</td>\n",
       "      <td>0.977866</td>\n",
       "      <td>0.046610</td>\n",
       "      <td>0.628571</td>\n",
       "      <td>0.141414</td>\n",
       "      <td>0.0</td>\n",
       "      <td>0.125</td>\n",
       "      <td>0.0</td>\n",
       "      <td>0.0</td>\n",
       "      <td>1.0</td>\n",
       "      <td>0.00</td>\n",
       "      <td>0.5</td>\n",
       "    </tr>\n",
       "    <tr>\n",
       "      <th>2</th>\n",
       "      <td>0.043305</td>\n",
       "      <td>0.674268</td>\n",
       "      <td>0.029661</td>\n",
       "      <td>0.200000</td>\n",
       "      <td>0.373737</td>\n",
       "      <td>0.0</td>\n",
       "      <td>0.875</td>\n",
       "      <td>0.0</td>\n",
       "      <td>0.3</td>\n",
       "      <td>1.0</td>\n",
       "      <td>0.00</td>\n",
       "      <td>0.5</td>\n",
       "    </tr>\n",
       "    <tr>\n",
       "      <th>3</th>\n",
       "      <td>0.023898</td>\n",
       "      <td>0.439954</td>\n",
       "      <td>0.148305</td>\n",
       "      <td>0.828571</td>\n",
       "      <td>0.171717</td>\n",
       "      <td>0.0</td>\n",
       "      <td>0.000</td>\n",
       "      <td>0.5</td>\n",
       "      <td>0.3</td>\n",
       "      <td>1.0</td>\n",
       "      <td>0.25</td>\n",
       "      <td>0.5</td>\n",
       "    </tr>\n",
       "    <tr>\n",
       "      <th>4</th>\n",
       "      <td>0.033779</td>\n",
       "      <td>0.000000</td>\n",
       "      <td>0.254237</td>\n",
       "      <td>0.314286</td>\n",
       "      <td>0.101010</td>\n",
       "      <td>0.0</td>\n",
       "      <td>0.000</td>\n",
       "      <td>0.5</td>\n",
       "      <td>0.3</td>\n",
       "      <td>0.0</td>\n",
       "      <td>0.25</td>\n",
       "      <td>0.5</td>\n",
       "    </tr>\n",
       "  </tbody>\n",
       "</table>\n",
       "</div>"
      ],
      "text/plain": [
       "   customer_lifetime_value    income  monthly_premium_auto  \\\n",
       "0                 0.006821  0.837879              0.004237   \n",
       "1                 0.083444  0.977866              0.046610   \n",
       "2                 0.043305  0.674268              0.029661   \n",
       "3                 0.023898  0.439954              0.148305   \n",
       "4                 0.033779  0.000000              0.254237   \n",
       "\n",
       "   months_since_last_claim  months_since_policy_inception  \\\n",
       "0                 0.371429                       0.767677   \n",
       "1                 0.628571                       0.141414   \n",
       "2                 0.200000                       0.373737   \n",
       "3                 0.828571                       0.171717   \n",
       "4                 0.314286                       0.101010   \n",
       "\n",
       "   number_of_open_complaints  number_of_policies  coverage  education  \\\n",
       "0                        0.0               0.000       0.0        0.1   \n",
       "1                        0.0               0.125       0.0        0.0   \n",
       "2                        0.0               0.875       0.0        0.3   \n",
       "3                        0.0               0.000       0.5        0.3   \n",
       "4                        0.0               0.000       0.5        0.3   \n",
       "\n",
       "   employmentstatus  location_code  vehicle_size  \n",
       "0               1.0           0.00           1.0  \n",
       "1               1.0           0.00           0.5  \n",
       "2               1.0           0.00           0.5  \n",
       "3               1.0           0.25           0.5  \n",
       "4               0.0           0.25           0.5  "
      ]
     },
     "execution_count": 66,
     "metadata": {},
     "output_type": "execute_result"
    }
   ],
   "source": [
    "#X_test\n",
    "\n",
    "X_norm2 = transformer.transform(X_test_num)\n",
    "X_test_scale = pd.DataFrame(X_norm2,columns=X_test_num.columns)\n",
    "X_test_scale.head()"
   ]
  },
  {
   "cell_type": "markdown",
   "id": "ca72d427",
   "metadata": {},
   "source": [
    "# OneHot Encoding"
   ]
  },
  {
   "cell_type": "code",
   "execution_count": 67,
   "id": "a5815a67",
   "metadata": {},
   "outputs": [
    {
     "data": {
      "text/html": [
       "<div>\n",
       "<style scoped>\n",
       "    .dataframe tbody tr th:only-of-type {\n",
       "        vertical-align: middle;\n",
       "    }\n",
       "\n",
       "    .dataframe tbody tr th {\n",
       "        vertical-align: top;\n",
       "    }\n",
       "\n",
       "    .dataframe thead th {\n",
       "        text-align: right;\n",
       "    }\n",
       "</style>\n",
       "<table border=\"1\" class=\"dataframe\">\n",
       "  <thead>\n",
       "    <tr style=\"text-align: right;\">\n",
       "      <th></th>\n",
       "      <th>state</th>\n",
       "      <th>response</th>\n",
       "      <th>gender</th>\n",
       "      <th>marital_status</th>\n",
       "      <th>policy_type</th>\n",
       "      <th>policy</th>\n",
       "      <th>renew_offer_type</th>\n",
       "      <th>sales_channel</th>\n",
       "      <th>vehicle_class</th>\n",
       "    </tr>\n",
       "  </thead>\n",
       "  <tbody>\n",
       "    <tr>\n",
       "      <th>1212</th>\n",
       "      <td>California</td>\n",
       "      <td>No</td>\n",
       "      <td>F</td>\n",
       "      <td>Single</td>\n",
       "      <td>Personal Auto</td>\n",
       "      <td>L3</td>\n",
       "      <td>Offer1</td>\n",
       "      <td>Agent</td>\n",
       "      <td>Regular Car</td>\n",
       "    </tr>\n",
       "  </tbody>\n",
       "</table>\n",
       "</div>"
      ],
      "text/plain": [
       "           state response gender marital_status    policy_type policy  \\\n",
       "1212  California       No      F         Single  Personal Auto     L3   \n",
       "\n",
       "     renew_offer_type sales_channel vehicle_class  \n",
       "1212           Offer1         Agent   Regular Car  "
      ]
     },
     "execution_count": 67,
     "metadata": {},
     "output_type": "execute_result"
    }
   ],
   "source": [
    "X_train_cat.head(1)"
   ]
  },
  {
   "cell_type": "code",
   "execution_count": 68,
   "id": "964221de",
   "metadata": {},
   "outputs": [
    {
     "data": {
      "text/html": [
       "<div>\n",
       "<style scoped>\n",
       "    .dataframe tbody tr th:only-of-type {\n",
       "        vertical-align: middle;\n",
       "    }\n",
       "\n",
       "    .dataframe tbody tr th {\n",
       "        vertical-align: top;\n",
       "    }\n",
       "\n",
       "    .dataframe thead th {\n",
       "        text-align: right;\n",
       "    }\n",
       "</style>\n",
       "<table border=\"1\" class=\"dataframe\">\n",
       "  <thead>\n",
       "    <tr style=\"text-align: right;\">\n",
       "      <th></th>\n",
       "      <th>state_California</th>\n",
       "      <th>state_Nevada</th>\n",
       "      <th>state_Oregon</th>\n",
       "      <th>state_Washington</th>\n",
       "      <th>response_Yes</th>\n",
       "      <th>gender_M</th>\n",
       "      <th>marital_status_Single</th>\n",
       "      <th>policy_type_Personal Auto</th>\n",
       "      <th>policy_type_Special Auto</th>\n",
       "      <th>policy_L2</th>\n",
       "      <th>policy_L3</th>\n",
       "      <th>renew_offer_type_Offer2</th>\n",
       "      <th>renew_offer_type_Offer3</th>\n",
       "      <th>renew_offer_type_Offer4</th>\n",
       "      <th>sales_channel_Branch</th>\n",
       "      <th>sales_channel_Call Center</th>\n",
       "      <th>sales_channel_Web</th>\n",
       "      <th>vehicle_class_Regular Car</th>\n",
       "      <th>vehicle_class_SUV</th>\n",
       "      <th>vehicle_class_Sports Car</th>\n",
       "    </tr>\n",
       "  </thead>\n",
       "  <tbody>\n",
       "    <tr>\n",
       "      <th>0</th>\n",
       "      <td>1.0</td>\n",
       "      <td>0.0</td>\n",
       "      <td>0.0</td>\n",
       "      <td>0.0</td>\n",
       "      <td>0.0</td>\n",
       "      <td>0.0</td>\n",
       "      <td>1.0</td>\n",
       "      <td>1.0</td>\n",
       "      <td>0.0</td>\n",
       "      <td>0.0</td>\n",
       "      <td>1.0</td>\n",
       "      <td>0.0</td>\n",
       "      <td>0.0</td>\n",
       "      <td>0.0</td>\n",
       "      <td>0.0</td>\n",
       "      <td>0.0</td>\n",
       "      <td>0.0</td>\n",
       "      <td>1.0</td>\n",
       "      <td>0.0</td>\n",
       "      <td>0.0</td>\n",
       "    </tr>\n",
       "    <tr>\n",
       "      <th>1</th>\n",
       "      <td>1.0</td>\n",
       "      <td>0.0</td>\n",
       "      <td>0.0</td>\n",
       "      <td>0.0</td>\n",
       "      <td>0.0</td>\n",
       "      <td>1.0</td>\n",
       "      <td>0.0</td>\n",
       "      <td>0.0</td>\n",
       "      <td>0.0</td>\n",
       "      <td>0.0</td>\n",
       "      <td>1.0</td>\n",
       "      <td>0.0</td>\n",
       "      <td>0.0</td>\n",
       "      <td>1.0</td>\n",
       "      <td>0.0</td>\n",
       "      <td>1.0</td>\n",
       "      <td>0.0</td>\n",
       "      <td>1.0</td>\n",
       "      <td>0.0</td>\n",
       "      <td>0.0</td>\n",
       "    </tr>\n",
       "    <tr>\n",
       "      <th>2</th>\n",
       "      <td>0.0</td>\n",
       "      <td>0.0</td>\n",
       "      <td>1.0</td>\n",
       "      <td>0.0</td>\n",
       "      <td>0.0</td>\n",
       "      <td>1.0</td>\n",
       "      <td>0.0</td>\n",
       "      <td>0.0</td>\n",
       "      <td>0.0</td>\n",
       "      <td>0.0</td>\n",
       "      <td>1.0</td>\n",
       "      <td>0.0</td>\n",
       "      <td>1.0</td>\n",
       "      <td>0.0</td>\n",
       "      <td>0.0</td>\n",
       "      <td>1.0</td>\n",
       "      <td>0.0</td>\n",
       "      <td>0.0</td>\n",
       "      <td>1.0</td>\n",
       "      <td>0.0</td>\n",
       "    </tr>\n",
       "    <tr>\n",
       "      <th>3</th>\n",
       "      <td>1.0</td>\n",
       "      <td>0.0</td>\n",
       "      <td>0.0</td>\n",
       "      <td>0.0</td>\n",
       "      <td>1.0</td>\n",
       "      <td>0.0</td>\n",
       "      <td>0.0</td>\n",
       "      <td>1.0</td>\n",
       "      <td>0.0</td>\n",
       "      <td>0.0</td>\n",
       "      <td>0.0</td>\n",
       "      <td>0.0</td>\n",
       "      <td>0.0</td>\n",
       "      <td>0.0</td>\n",
       "      <td>0.0</td>\n",
       "      <td>0.0</td>\n",
       "      <td>0.0</td>\n",
       "      <td>0.0</td>\n",
       "      <td>1.0</td>\n",
       "      <td>0.0</td>\n",
       "    </tr>\n",
       "    <tr>\n",
       "      <th>4</th>\n",
       "      <td>1.0</td>\n",
       "      <td>0.0</td>\n",
       "      <td>0.0</td>\n",
       "      <td>0.0</td>\n",
       "      <td>0.0</td>\n",
       "      <td>1.0</td>\n",
       "      <td>0.0</td>\n",
       "      <td>0.0</td>\n",
       "      <td>0.0</td>\n",
       "      <td>1.0</td>\n",
       "      <td>0.0</td>\n",
       "      <td>0.0</td>\n",
       "      <td>0.0</td>\n",
       "      <td>0.0</td>\n",
       "      <td>0.0</td>\n",
       "      <td>0.0</td>\n",
       "      <td>0.0</td>\n",
       "      <td>0.0</td>\n",
       "      <td>1.0</td>\n",
       "      <td>0.0</td>\n",
       "    </tr>\n",
       "  </tbody>\n",
       "</table>\n",
       "</div>"
      ],
      "text/plain": [
       "   state_California  state_Nevada  state_Oregon  state_Washington  \\\n",
       "0               1.0           0.0           0.0               0.0   \n",
       "1               1.0           0.0           0.0               0.0   \n",
       "2               0.0           0.0           1.0               0.0   \n",
       "3               1.0           0.0           0.0               0.0   \n",
       "4               1.0           0.0           0.0               0.0   \n",
       "\n",
       "   response_Yes  gender_M  marital_status_Single  policy_type_Personal Auto  \\\n",
       "0           0.0       0.0                    1.0                        1.0   \n",
       "1           0.0       1.0                    0.0                        0.0   \n",
       "2           0.0       1.0                    0.0                        0.0   \n",
       "3           1.0       0.0                    0.0                        1.0   \n",
       "4           0.0       1.0                    0.0                        0.0   \n",
       "\n",
       "   policy_type_Special Auto  policy_L2  policy_L3  renew_offer_type_Offer2  \\\n",
       "0                       0.0        0.0        1.0                      0.0   \n",
       "1                       0.0        0.0        1.0                      0.0   \n",
       "2                       0.0        0.0        1.0                      0.0   \n",
       "3                       0.0        0.0        0.0                      0.0   \n",
       "4                       0.0        1.0        0.0                      0.0   \n",
       "\n",
       "   renew_offer_type_Offer3  renew_offer_type_Offer4  sales_channel_Branch  \\\n",
       "0                      0.0                      0.0                   0.0   \n",
       "1                      0.0                      1.0                   0.0   \n",
       "2                      1.0                      0.0                   0.0   \n",
       "3                      0.0                      0.0                   0.0   \n",
       "4                      0.0                      0.0                   0.0   \n",
       "\n",
       "   sales_channel_Call Center  sales_channel_Web  vehicle_class_Regular Car  \\\n",
       "0                        0.0                0.0                        1.0   \n",
       "1                        1.0                0.0                        1.0   \n",
       "2                        1.0                0.0                        0.0   \n",
       "3                        0.0                0.0                        0.0   \n",
       "4                        0.0                0.0                        0.0   \n",
       "\n",
       "   vehicle_class_SUV  vehicle_class_Sports Car  \n",
       "0                0.0                       0.0  \n",
       "1                0.0                       0.0  \n",
       "2                1.0                       0.0  \n",
       "3                1.0                       0.0  \n",
       "4                1.0                       0.0  "
      ]
     },
     "execution_count": 68,
     "metadata": {},
     "output_type": "execute_result"
    }
   ],
   "source": [
    "#X_train\n",
    "\n",
    "encoder = OneHotEncoder(drop='first').fit(X_train_cat)\n",
    "\n",
    "cols = encoder.get_feature_names_out(input_features=X_train_cat.columns)\n",
    "\n",
    "X_train_cat_encode = pd.DataFrame(encoder.transform(X_train_cat).toarray(),columns=cols)\n",
    "\n",
    "X_train_cat_encode.head()"
   ]
  },
  {
   "cell_type": "code",
   "execution_count": 69,
   "id": "d7858eae",
   "metadata": {},
   "outputs": [
    {
     "data": {
      "text/html": [
       "<div>\n",
       "<style scoped>\n",
       "    .dataframe tbody tr th:only-of-type {\n",
       "        vertical-align: middle;\n",
       "    }\n",
       "\n",
       "    .dataframe tbody tr th {\n",
       "        vertical-align: top;\n",
       "    }\n",
       "\n",
       "    .dataframe thead th {\n",
       "        text-align: right;\n",
       "    }\n",
       "</style>\n",
       "<table border=\"1\" class=\"dataframe\">\n",
       "  <thead>\n",
       "    <tr style=\"text-align: right;\">\n",
       "      <th></th>\n",
       "      <th>state_California</th>\n",
       "      <th>state_Nevada</th>\n",
       "      <th>state_Oregon</th>\n",
       "      <th>state_Washington</th>\n",
       "      <th>response_Yes</th>\n",
       "      <th>gender_M</th>\n",
       "      <th>marital_status_Single</th>\n",
       "      <th>policy_type_Personal Auto</th>\n",
       "      <th>policy_type_Special Auto</th>\n",
       "      <th>policy_L2</th>\n",
       "      <th>policy_L3</th>\n",
       "      <th>renew_offer_type_Offer2</th>\n",
       "      <th>renew_offer_type_Offer3</th>\n",
       "      <th>renew_offer_type_Offer4</th>\n",
       "      <th>sales_channel_Branch</th>\n",
       "      <th>sales_channel_Call Center</th>\n",
       "      <th>sales_channel_Web</th>\n",
       "      <th>vehicle_class_Regular Car</th>\n",
       "      <th>vehicle_class_SUV</th>\n",
       "      <th>vehicle_class_Sports Car</th>\n",
       "    </tr>\n",
       "  </thead>\n",
       "  <tbody>\n",
       "    <tr>\n",
       "      <th>0</th>\n",
       "      <td>1.0</td>\n",
       "      <td>0.0</td>\n",
       "      <td>0.0</td>\n",
       "      <td>0.0</td>\n",
       "      <td>0.0</td>\n",
       "      <td>1.0</td>\n",
       "      <td>1.0</td>\n",
       "      <td>1.0</td>\n",
       "      <td>0.0</td>\n",
       "      <td>0.0</td>\n",
       "      <td>1.0</td>\n",
       "      <td>0.0</td>\n",
       "      <td>1.0</td>\n",
       "      <td>0.0</td>\n",
       "      <td>1.0</td>\n",
       "      <td>0.0</td>\n",
       "      <td>0.0</td>\n",
       "      <td>1.0</td>\n",
       "      <td>0.0</td>\n",
       "      <td>0.0</td>\n",
       "    </tr>\n",
       "    <tr>\n",
       "      <th>1</th>\n",
       "      <td>0.0</td>\n",
       "      <td>0.0</td>\n",
       "      <td>1.0</td>\n",
       "      <td>0.0</td>\n",
       "      <td>0.0</td>\n",
       "      <td>0.0</td>\n",
       "      <td>1.0</td>\n",
       "      <td>1.0</td>\n",
       "      <td>0.0</td>\n",
       "      <td>0.0</td>\n",
       "      <td>0.0</td>\n",
       "      <td>0.0</td>\n",
       "      <td>1.0</td>\n",
       "      <td>0.0</td>\n",
       "      <td>0.0</td>\n",
       "      <td>0.0</td>\n",
       "      <td>0.0</td>\n",
       "      <td>1.0</td>\n",
       "      <td>0.0</td>\n",
       "      <td>0.0</td>\n",
       "    </tr>\n",
       "    <tr>\n",
       "      <th>2</th>\n",
       "      <td>0.0</td>\n",
       "      <td>0.0</td>\n",
       "      <td>1.0</td>\n",
       "      <td>0.0</td>\n",
       "      <td>0.0</td>\n",
       "      <td>0.0</td>\n",
       "      <td>0.0</td>\n",
       "      <td>1.0</td>\n",
       "      <td>0.0</td>\n",
       "      <td>0.0</td>\n",
       "      <td>0.0</td>\n",
       "      <td>1.0</td>\n",
       "      <td>0.0</td>\n",
       "      <td>0.0</td>\n",
       "      <td>1.0</td>\n",
       "      <td>0.0</td>\n",
       "      <td>0.0</td>\n",
       "      <td>1.0</td>\n",
       "      <td>0.0</td>\n",
       "      <td>0.0</td>\n",
       "    </tr>\n",
       "    <tr>\n",
       "      <th>3</th>\n",
       "      <td>1.0</td>\n",
       "      <td>0.0</td>\n",
       "      <td>0.0</td>\n",
       "      <td>0.0</td>\n",
       "      <td>0.0</td>\n",
       "      <td>1.0</td>\n",
       "      <td>0.0</td>\n",
       "      <td>1.0</td>\n",
       "      <td>0.0</td>\n",
       "      <td>0.0</td>\n",
       "      <td>1.0</td>\n",
       "      <td>1.0</td>\n",
       "      <td>0.0</td>\n",
       "      <td>0.0</td>\n",
       "      <td>0.0</td>\n",
       "      <td>1.0</td>\n",
       "      <td>0.0</td>\n",
       "      <td>1.0</td>\n",
       "      <td>0.0</td>\n",
       "      <td>0.0</td>\n",
       "    </tr>\n",
       "    <tr>\n",
       "      <th>4</th>\n",
       "      <td>0.0</td>\n",
       "      <td>0.0</td>\n",
       "      <td>1.0</td>\n",
       "      <td>0.0</td>\n",
       "      <td>0.0</td>\n",
       "      <td>0.0</td>\n",
       "      <td>0.0</td>\n",
       "      <td>1.0</td>\n",
       "      <td>0.0</td>\n",
       "      <td>0.0</td>\n",
       "      <td>0.0</td>\n",
       "      <td>0.0</td>\n",
       "      <td>1.0</td>\n",
       "      <td>0.0</td>\n",
       "      <td>0.0</td>\n",
       "      <td>1.0</td>\n",
       "      <td>0.0</td>\n",
       "      <td>0.0</td>\n",
       "      <td>1.0</td>\n",
       "      <td>0.0</td>\n",
       "    </tr>\n",
       "  </tbody>\n",
       "</table>\n",
       "</div>"
      ],
      "text/plain": [
       "   state_California  state_Nevada  state_Oregon  state_Washington  \\\n",
       "0               1.0           0.0           0.0               0.0   \n",
       "1               0.0           0.0           1.0               0.0   \n",
       "2               0.0           0.0           1.0               0.0   \n",
       "3               1.0           0.0           0.0               0.0   \n",
       "4               0.0           0.0           1.0               0.0   \n",
       "\n",
       "   response_Yes  gender_M  marital_status_Single  policy_type_Personal Auto  \\\n",
       "0           0.0       1.0                    1.0                        1.0   \n",
       "1           0.0       0.0                    1.0                        1.0   \n",
       "2           0.0       0.0                    0.0                        1.0   \n",
       "3           0.0       1.0                    0.0                        1.0   \n",
       "4           0.0       0.0                    0.0                        1.0   \n",
       "\n",
       "   policy_type_Special Auto  policy_L2  policy_L3  renew_offer_type_Offer2  \\\n",
       "0                       0.0        0.0        1.0                      0.0   \n",
       "1                       0.0        0.0        0.0                      0.0   \n",
       "2                       0.0        0.0        0.0                      1.0   \n",
       "3                       0.0        0.0        1.0                      1.0   \n",
       "4                       0.0        0.0        0.0                      0.0   \n",
       "\n",
       "   renew_offer_type_Offer3  renew_offer_type_Offer4  sales_channel_Branch  \\\n",
       "0                      1.0                      0.0                   1.0   \n",
       "1                      1.0                      0.0                   0.0   \n",
       "2                      0.0                      0.0                   1.0   \n",
       "3                      0.0                      0.0                   0.0   \n",
       "4                      1.0                      0.0                   0.0   \n",
       "\n",
       "   sales_channel_Call Center  sales_channel_Web  vehicle_class_Regular Car  \\\n",
       "0                        0.0                0.0                        1.0   \n",
       "1                        0.0                0.0                        1.0   \n",
       "2                        0.0                0.0                        1.0   \n",
       "3                        1.0                0.0                        1.0   \n",
       "4                        1.0                0.0                        0.0   \n",
       "\n",
       "   vehicle_class_SUV  vehicle_class_Sports Car  \n",
       "0                0.0                       0.0  \n",
       "1                0.0                       0.0  \n",
       "2                0.0                       0.0  \n",
       "3                0.0                       0.0  \n",
       "4                1.0                       0.0  "
      ]
     },
     "execution_count": 69,
     "metadata": {},
     "output_type": "execute_result"
    }
   ],
   "source": [
    "#X_test\n",
    "\n",
    "cols = encoder.get_feature_names_out(input_features=X_test_cat.columns)\n",
    "\n",
    "X_test_cat_encode = pd.DataFrame(encoder.transform(X_test_cat).toarray(),columns=cols)\n",
    "\n",
    "X_test_cat_encode.head()"
   ]
  },
  {
   "cell_type": "markdown",
   "id": "e5a02cde",
   "metadata": {},
   "source": [
    "# Concatenating scaled and encoded dfs"
   ]
  },
  {
   "cell_type": "code",
   "execution_count": 70,
   "id": "0b486161",
   "metadata": {},
   "outputs": [],
   "source": [
    "X_train = pd.concat([X_train_cat_encode, X_train_scale], axis=1)\n",
    "\n",
    "X_test = pd.concat([X_test_cat_encode, X_test_scale], axis=1)"
   ]
  },
  {
   "cell_type": "code",
   "execution_count": 71,
   "id": "2931a0ad",
   "metadata": {},
   "outputs": [
    {
     "name": "stdout",
     "output_type": "stream",
     "text": [
      "X_train shape:  (7307, 32)\n",
      "X_test shape:  (1827, 32)\n",
      "y_train shape:  (7307,)\n",
      "y_test shape:  (1827,)\n"
     ]
    }
   ],
   "source": [
    "print('X_train shape: ', X_train.shape)\n",
    "print('X_test shape: ', X_test.shape)\n",
    "print('y_train shape: ', y_train.shape)\n",
    "print('y_test shape: ', y_test.shape)"
   ]
  },
  {
   "cell_type": "markdown",
   "id": "83d2fafe",
   "metadata": {},
   "source": [
    "# Model"
   ]
  },
  {
   "cell_type": "code",
   "execution_count": 72,
   "id": "cc617554",
   "metadata": {},
   "outputs": [],
   "source": [
    "# Define function to run all models.\n",
    "\n",
    "def models_automation(models, X_train, y_train):\n",
    "    for model in models:\n",
    "        model.fit(X_train, y_train)\n",
    "        print(f\"{model.__class__.__name__}: Train-->{model.score(X_train, y_train)}, Test-->{model.score(X_test, y_test)}\")"
   ]
  },
  {
   "cell_type": "code",
   "execution_count": 73,
   "id": "f793ee88",
   "metadata": {},
   "outputs": [],
   "source": [
    "model_list = [LinearRegression(), SGDRegressor(), KNeighborsRegressor(), MLPRegressor(), \n",
    "              DecisionTreeRegressor(), RandomForestRegressor()]\n"
   ]
  },
  {
   "cell_type": "code",
   "execution_count": 74,
   "id": "713605c8",
   "metadata": {},
   "outputs": [
    {
     "name": "stdout",
     "output_type": "stream",
     "text": [
      "LinearRegression: Train-->0.5715789528963581, Test-->0.5714197944480193\n",
      "SGDRegressor: Train-->0.5692929506263695, Test-->0.5671183132950044\n",
      "KNeighborsRegressor: Train-->0.6095251985303305, Test-->0.44042579668717496\n"
     ]
    },
    {
     "name": "stderr",
     "output_type": "stream",
     "text": [
      "/Users/elifyildirim/opt/anaconda3/lib/python3.9/site-packages/sklearn/neural_network/_multilayer_perceptron.py:702: ConvergenceWarning: Stochastic Optimizer: Maximum iterations (200) reached and the optimization hasn't converged yet.\n",
      "  warnings.warn(\n"
     ]
    },
    {
     "name": "stdout",
     "output_type": "stream",
     "text": [
      "MLPRegressor: Train-->0.6529599909339032, Test-->0.6508339014148772\n",
      "DecisionTreeRegressor: Train-->1.0, Test-->0.6684579196233442\n",
      "RandomForestRegressor: Train-->0.9767118108014667, Test-->0.8325473935706053\n"
     ]
    }
   ],
   "source": [
    "models_automation(model_list, X_train, y_train)\n"
   ]
  },
  {
   "cell_type": "code",
   "execution_count": 75,
   "id": "47f76c63",
   "metadata": {},
   "outputs": [],
   "source": [
    "# Random Forest Regressor has the best score."
   ]
  },
  {
   "cell_type": "markdown",
   "id": "9b14874c",
   "metadata": {},
   "source": [
    "# Random variable distributions"
   ]
  },
  {
   "cell_type": "code",
   "execution_count": 76,
   "id": "b91f4525",
   "metadata": {},
   "outputs": [],
   "source": [
    "#Instructions\n",
    "#Get the numerical variables from our dataset.\n",
    "#Check using a distribution plot if the variables fit the theoretical normal or exponential distribution.\n",
    "#Check if any of the transformations (log-transform, etc.) we have seen up to this point changes the result.\n"
   ]
  },
  {
   "cell_type": "code",
   "execution_count": 77,
   "id": "919a4ce4",
   "metadata": {},
   "outputs": [
    {
     "data": {
      "image/png": "[encoded data removed]",
      "text/plain": [
       "<Figure size 360x360 with 1 Axes>"
      ]
     },
     "metadata": {
      "needs_background": "light"
     },
     "output_type": "display_data"
    },
    {
     "data": {
      "image/png": "[encoded data removed]",
      "text/plain": [
       "<Figure size 360x360 with 1 Axes>"
      ]
     },
     "metadata": {
      "needs_background": "light"
     },
     "output_type": "display_data"
    }
   ],
   "source": [
    "sns.displot(numerical_df['total_claim_amount'], bins=100, kde=True)\n",
    "sns.displot(numerical_df['total_claim_amount'].apply(np.log)/12, bins=100, kde=True)\n",
    "plt.show()"
   ]
  },
  {
   "cell_type": "code",
   "execution_count": 78,
   "id": "ebb68173",
   "metadata": {},
   "outputs": [
    {
     "data": {
      "image/png": "[encoded data removed]",
      "text/plain": [
       "<Figure size 360x360 with 1 Axes>"
      ]
     },
     "metadata": {
      "needs_background": "light"
     },
     "output_type": "display_data"
    },
    {
     "data": {
      "image/png": "[encoded data removed]",
      "text/plain": [
       "<Figure size 360x360 with 1 Axes>"
      ]
     },
     "metadata": {
      "needs_background": "light"
     },
     "output_type": "display_data"
    }
   ],
   "source": [
    "sns.displot(numerical_df['monthly_premium_auto'], bins=100, kde=True)\n",
    "sns.displot(numerical_df['monthly_premium_auto'].apply(np.log)/12, bins=100, kde=True)\n",
    "plt.show()"
   ]
  },
  {
   "cell_type": "code",
   "execution_count": 79,
   "id": "f3617593",
   "metadata": {},
   "outputs": [
    {
     "data": {
      "image/png": "[encoded data removed]",
      "text/plain": [
       "<Figure size 360x360 with 1 Axes>"
      ]
     },
     "metadata": {
      "needs_background": "light"
     },
     "output_type": "display_data"
    },
    {
     "data": {
      "image/png": "[encoded data removed]",
      "text/plain": [
       "<Figure size 360x360 with 1 Axes>"
      ]
     },
     "metadata": {
      "needs_background": "light"
     },
     "output_type": "display_data"
    }
   ],
   "source": [
    "sns.displot(numerical_df['customer_lifetime_value'], bins=100, kde=True)\n",
    "sns.displot(numerical_df['customer_lifetime_value'].apply(np.log)/12, bins=100, kde=True)\n",
    "plt.show()"
   ]
  },
  {
   "cell_type": "code",
   "execution_count": null,
   "id": "468ebdf8",
   "metadata": {},
   "outputs": [],
   "source": [
    "# monthly_premium_auto is still not really normal."
   ]
  }
 ],
 "metadata": {
  "kernelspec": {
   "display_name": "Python 3 (ipykernel)",
   "language": "python",
   "name": "python3"
  },
  "language_info": {
   "codemirror_mode": {
    "name": "ipython",
    "version": 3
   },
   "file_extension": ".py",
   "mimetype": "text/x-python",
   "name": "python",
   "nbconvert_exporter": "python",
   "pygments_lexer": "ipython3",
   "version": "3.9.12"
  },
  "toc": {
   "base_numbering": 1,
   "nav_menu": {},
   "number_sections": true,
   "sideBar": true,
   "skip_h1_title": false,
   "title_cell": "Table of Contents",
   "title_sidebar": "Contents",
   "toc_cell": false,
   "toc_position": {},
   "toc_section_display": true,
   "toc_window_display": true
  }
 },
 "nbformat": 4,
 "nbformat_minor": 5
}
